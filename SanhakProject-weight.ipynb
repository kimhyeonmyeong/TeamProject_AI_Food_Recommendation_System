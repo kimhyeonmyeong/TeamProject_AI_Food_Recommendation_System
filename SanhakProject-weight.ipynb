{
  "cells": [
    {
      "metadata": {
        "trusted": true
      },
      "cell_type": "code",
      "source": "from sklearn.decomposition import TruncatedSVD\nfrom scipy.sparse.linalg import svds\n\nimport matplotlib.pyplot as plt\nimport seaborn as sns\nimport pandas as pd\nimport numpy as np\nimport warnings\nimport torch\n\n#from azureml.core import Workspace\n#from azureml.core import Experiment\n#from azureml.opendatasets import Diabetes\n\n\nfrom sklearn.model_selection import train_test_split\n\nwarnings.filterwarnings(\"ignore\")",
      "execution_count": 1,
      "outputs": []
    },
    {
      "metadata": {
        "trusted": true
      },
      "cell_type": "code",
      "source": "\nrating_data = pd.read_csv('./rating.csv')\nfood_data = pd.read_csv('./food_id.csv')",
      "execution_count": 2,
      "outputs": []
    },
    {
      "metadata": {
        "trusted": true
      },
      "cell_type": "code",
      "source": "rating_data.head()\n",
      "execution_count": 3,
      "outputs": [
        {
          "output_type": "execute_result",
          "execution_count": 3,
          "data": {
            "text/plain": "   geo_id         store  enviRating  qualRating  서블레이팅  food_id food_category  \\\n0       1  그 몇 해 동안 마라탕         NaN         NaN    NaN      221    맛있는 음식 마라탕   \n1       1     강기쇠고기 열간면        3.53        3.52   3.52     2983        미식_열간면   \n2       1        파계생분면점        3.64        3.63   3.63     1817       맛있는 음식점   \n3       1      왕장훙가정식백반        3.71        3.71   3.71     1783        맛있는 요리   \n4       1   특색 요화관 황장닭밥        3.58        3.58   3.58    34295        미식_황장닭   \n\n  district food_category2  ratingCount                      menu  \\\n0      장안구            마라탕            2  그 몇 년 동안 마라탕은 그 해 마라탕이었다   \n1      장안구            열간면            1       강기쇠고기 열간면 강기쇠고기 열간면   \n2      장안구            분식집            1            발계생분면 가게 발계생분면   \n3      장안구         가정식 요리            4   왕장훙가정식백반 요리 왕장훙가정식백반 요리   \n4      장안구            황장계            1   특색 요화관 황장닭밥 특색 요화관 황장닭밥   \n\n  goodTagDistvalue  \n0              NaN  \n1              NaN  \n2              NaN  \n3              NaN  \n4              NaN  ",
            "text/html": "<div>\n<table border=\"1\" class=\"dataframe\">\n  <thead>\n    <tr style=\"text-align: right;\">\n      <th></th>\n      <th>geo_id</th>\n      <th>store</th>\n      <th>enviRating</th>\n      <th>qualRating</th>\n      <th>서블레이팅</th>\n      <th>food_id</th>\n      <th>food_category</th>\n      <th>district</th>\n      <th>food_category2</th>\n      <th>ratingCount</th>\n      <th>menu</th>\n      <th>goodTagDistvalue</th>\n    </tr>\n  </thead>\n  <tbody>\n    <tr>\n      <th>0</th>\n      <td>1</td>\n      <td>그 몇 해 동안 마라탕</td>\n      <td>NaN</td>\n      <td>NaN</td>\n      <td>NaN</td>\n      <td>221</td>\n      <td>맛있는 음식 마라탕</td>\n      <td>장안구</td>\n      <td>마라탕</td>\n      <td>2</td>\n      <td>그 몇 년 동안 마라탕은 그 해 마라탕이었다</td>\n      <td>NaN</td>\n    </tr>\n    <tr>\n      <th>1</th>\n      <td>1</td>\n      <td>강기쇠고기 열간면</td>\n      <td>3.53</td>\n      <td>3.52</td>\n      <td>3.52</td>\n      <td>2983</td>\n      <td>미식_열간면</td>\n      <td>장안구</td>\n      <td>열간면</td>\n      <td>1</td>\n      <td>강기쇠고기 열간면 강기쇠고기 열간면</td>\n      <td>NaN</td>\n    </tr>\n    <tr>\n      <th>2</th>\n      <td>1</td>\n      <td>파계생분면점</td>\n      <td>3.64</td>\n      <td>3.63</td>\n      <td>3.63</td>\n      <td>1817</td>\n      <td>맛있는 음식점</td>\n      <td>장안구</td>\n      <td>분식집</td>\n      <td>1</td>\n      <td>발계생분면 가게 발계생분면</td>\n      <td>NaN</td>\n    </tr>\n    <tr>\n      <th>3</th>\n      <td>1</td>\n      <td>왕장훙가정식백반</td>\n      <td>3.71</td>\n      <td>3.71</td>\n      <td>3.71</td>\n      <td>1783</td>\n      <td>맛있는 요리</td>\n      <td>장안구</td>\n      <td>가정식 요리</td>\n      <td>4</td>\n      <td>왕장훙가정식백반 요리 왕장훙가정식백반 요리</td>\n      <td>NaN</td>\n    </tr>\n    <tr>\n      <th>4</th>\n      <td>1</td>\n      <td>특색 요화관 황장닭밥</td>\n      <td>3.58</td>\n      <td>3.58</td>\n      <td>3.58</td>\n      <td>34295</td>\n      <td>미식_황장닭</td>\n      <td>장안구</td>\n      <td>황장계</td>\n      <td>1</td>\n      <td>특색 요화관 황장닭밥 특색 요화관 황장닭밥</td>\n      <td>NaN</td>\n    </tr>\n  </tbody>\n</table>\n</div>"
          },
          "metadata": {}
        }
      ]
    },
    {
      "metadata": {
        "trusted": true
      },
      "cell_type": "code",
      "source": "food_data.head()",
      "execution_count": 4,
      "outputs": [
        {
          "output_type": "execute_result",
          "execution_count": 4,
          "data": {
            "text/plain": "   food_id food_category  Unnamed: 2                      menu\n0      221    맛있는 음식 마라탕         NaN  그 몇 년 동안 마라탕은 그 해 마라탕이었다\n1     2983        미식_열간면         NaN       강기쇠고기 열간면 강기쇠고기 열간면\n2     1817       맛있는 음식점         NaN            발계생분면 가게 발계생분면\n3     1783        맛있는 요리         NaN   왕장훙가정식백반 요리 왕장훙가정식백반 요리\n4    34295        미식_황장닭         NaN   특색 요화관 황장닭밥 특색 요화관 황장닭밥",
            "text/html": "<div>\n<table border=\"1\" class=\"dataframe\">\n  <thead>\n    <tr style=\"text-align: right;\">\n      <th></th>\n      <th>food_id</th>\n      <th>food_category</th>\n      <th>Unnamed: 2</th>\n      <th>menu</th>\n    </tr>\n  </thead>\n  <tbody>\n    <tr>\n      <th>0</th>\n      <td>221</td>\n      <td>맛있는 음식 마라탕</td>\n      <td>NaN</td>\n      <td>그 몇 년 동안 마라탕은 그 해 마라탕이었다</td>\n    </tr>\n    <tr>\n      <th>1</th>\n      <td>2983</td>\n      <td>미식_열간면</td>\n      <td>NaN</td>\n      <td>강기쇠고기 열간면 강기쇠고기 열간면</td>\n    </tr>\n    <tr>\n      <th>2</th>\n      <td>1817</td>\n      <td>맛있는 음식점</td>\n      <td>NaN</td>\n      <td>발계생분면 가게 발계생분면</td>\n    </tr>\n    <tr>\n      <th>3</th>\n      <td>1783</td>\n      <td>맛있는 요리</td>\n      <td>NaN</td>\n      <td>왕장훙가정식백반 요리 왕장훙가정식백반 요리</td>\n    </tr>\n    <tr>\n      <th>4</th>\n      <td>34295</td>\n      <td>미식_황장닭</td>\n      <td>NaN</td>\n      <td>특색 요화관 황장닭밥 특색 요화관 황장닭밥</td>\n    </tr>\n  </tbody>\n</table>\n</div>"
          },
          "metadata": {}
        }
      ]
    },
    {
      "metadata": {
        "trusted": true
      },
      "cell_type": "code",
      "source": "",
      "execution_count": null,
      "outputs": []
    },
    {
      "metadata": {
        "trusted": true
      },
      "cell_type": "code",
      "source": "",
      "execution_count": null,
      "outputs": []
    },
    {
      "metadata": {
        "trusted": true
      },
      "cell_type": "code",
      "source": "",
      "execution_count": null,
      "outputs": []
    },
    {
      "metadata": {
        "trusted": true
      },
      "cell_type": "code",
      "source": "",
      "execution_count": null,
      "outputs": []
    },
    {
      "metadata": {
        "trusted": true
      },
      "cell_type": "code",
      "source": "rating_data.drop('store', axis = 1, inplace = True)\nrating_data.head()",
      "execution_count": 5,
      "outputs": [
        {
          "output_type": "execute_result",
          "execution_count": 5,
          "data": {
            "text/plain": "   geo_id  enviRating  qualRating  서블레이팅  food_id food_category district  \\\n0       1         NaN         NaN    NaN      221    맛있는 음식 마라탕      장안구   \n1       1        3.53        3.52   3.52     2983        미식_열간면      장안구   \n2       1        3.64        3.63   3.63     1817       맛있는 음식점      장안구   \n3       1        3.71        3.71   3.71     1783        맛있는 요리      장안구   \n4       1        3.58        3.58   3.58    34295        미식_황장닭      장안구   \n\n  food_category2  ratingCount                      menu goodTagDistvalue  \n0            마라탕            2  그 몇 년 동안 마라탕은 그 해 마라탕이었다              NaN  \n1            열간면            1       강기쇠고기 열간면 강기쇠고기 열간면              NaN  \n2            분식집            1            발계생분면 가게 발계생분면              NaN  \n3         가정식 요리            4   왕장훙가정식백반 요리 왕장훙가정식백반 요리              NaN  \n4            황장계            1   특색 요화관 황장닭밥 특색 요화관 황장닭밥              NaN  ",
            "text/html": "<div>\n<table border=\"1\" class=\"dataframe\">\n  <thead>\n    <tr style=\"text-align: right;\">\n      <th></th>\n      <th>geo_id</th>\n      <th>enviRating</th>\n      <th>qualRating</th>\n      <th>서블레이팅</th>\n      <th>food_id</th>\n      <th>food_category</th>\n      <th>district</th>\n      <th>food_category2</th>\n      <th>ratingCount</th>\n      <th>menu</th>\n      <th>goodTagDistvalue</th>\n    </tr>\n  </thead>\n  <tbody>\n    <tr>\n      <th>0</th>\n      <td>1</td>\n      <td>NaN</td>\n      <td>NaN</td>\n      <td>NaN</td>\n      <td>221</td>\n      <td>맛있는 음식 마라탕</td>\n      <td>장안구</td>\n      <td>마라탕</td>\n      <td>2</td>\n      <td>그 몇 년 동안 마라탕은 그 해 마라탕이었다</td>\n      <td>NaN</td>\n    </tr>\n    <tr>\n      <th>1</th>\n      <td>1</td>\n      <td>3.53</td>\n      <td>3.52</td>\n      <td>3.52</td>\n      <td>2983</td>\n      <td>미식_열간면</td>\n      <td>장안구</td>\n      <td>열간면</td>\n      <td>1</td>\n      <td>강기쇠고기 열간면 강기쇠고기 열간면</td>\n      <td>NaN</td>\n    </tr>\n    <tr>\n      <th>2</th>\n      <td>1</td>\n      <td>3.64</td>\n      <td>3.63</td>\n      <td>3.63</td>\n      <td>1817</td>\n      <td>맛있는 음식점</td>\n      <td>장안구</td>\n      <td>분식집</td>\n      <td>1</td>\n      <td>발계생분면 가게 발계생분면</td>\n      <td>NaN</td>\n    </tr>\n    <tr>\n      <th>3</th>\n      <td>1</td>\n      <td>3.71</td>\n      <td>3.71</td>\n      <td>3.71</td>\n      <td>1783</td>\n      <td>맛있는 요리</td>\n      <td>장안구</td>\n      <td>가정식 요리</td>\n      <td>4</td>\n      <td>왕장훙가정식백반 요리 왕장훙가정식백반 요리</td>\n      <td>NaN</td>\n    </tr>\n    <tr>\n      <th>4</th>\n      <td>1</td>\n      <td>3.58</td>\n      <td>3.58</td>\n      <td>3.58</td>\n      <td>34295</td>\n      <td>미식_황장닭</td>\n      <td>장안구</td>\n      <td>황장계</td>\n      <td>1</td>\n      <td>특색 요화관 황장닭밥 특색 요화관 황장닭밥</td>\n      <td>NaN</td>\n    </tr>\n  </tbody>\n</table>\n</div>"
          },
          "metadata": {}
        }
      ]
    },
    {
      "metadata": {
        "trusted": true
      },
      "cell_type": "code",
      "source": "rating_data.drop('enviRating', axis = 1, inplace = True)\nrating_data.head()",
      "execution_count": 6,
      "outputs": [
        {
          "output_type": "execute_result",
          "execution_count": 6,
          "data": {
            "text/plain": "   geo_id  qualRating  서블레이팅  food_id food_category district food_category2  \\\n0       1         NaN    NaN      221    맛있는 음식 마라탕      장안구            마라탕   \n1       1        3.52   3.52     2983        미식_열간면      장안구            열간면   \n2       1        3.63   3.63     1817       맛있는 음식점      장안구            분식집   \n3       1        3.71   3.71     1783        맛있는 요리      장안구         가정식 요리   \n4       1        3.58   3.58    34295        미식_황장닭      장안구            황장계   \n\n   ratingCount                      menu goodTagDistvalue  \n0            2  그 몇 년 동안 마라탕은 그 해 마라탕이었다              NaN  \n1            1       강기쇠고기 열간면 강기쇠고기 열간면              NaN  \n2            1            발계생분면 가게 발계생분면              NaN  \n3            4   왕장훙가정식백반 요리 왕장훙가정식백반 요리              NaN  \n4            1   특색 요화관 황장닭밥 특색 요화관 황장닭밥              NaN  ",
            "text/html": "<div>\n<table border=\"1\" class=\"dataframe\">\n  <thead>\n    <tr style=\"text-align: right;\">\n      <th></th>\n      <th>geo_id</th>\n      <th>qualRating</th>\n      <th>서블레이팅</th>\n      <th>food_id</th>\n      <th>food_category</th>\n      <th>district</th>\n      <th>food_category2</th>\n      <th>ratingCount</th>\n      <th>menu</th>\n      <th>goodTagDistvalue</th>\n    </tr>\n  </thead>\n  <tbody>\n    <tr>\n      <th>0</th>\n      <td>1</td>\n      <td>NaN</td>\n      <td>NaN</td>\n      <td>221</td>\n      <td>맛있는 음식 마라탕</td>\n      <td>장안구</td>\n      <td>마라탕</td>\n      <td>2</td>\n      <td>그 몇 년 동안 마라탕은 그 해 마라탕이었다</td>\n      <td>NaN</td>\n    </tr>\n    <tr>\n      <th>1</th>\n      <td>1</td>\n      <td>3.52</td>\n      <td>3.52</td>\n      <td>2983</td>\n      <td>미식_열간면</td>\n      <td>장안구</td>\n      <td>열간면</td>\n      <td>1</td>\n      <td>강기쇠고기 열간면 강기쇠고기 열간면</td>\n      <td>NaN</td>\n    </tr>\n    <tr>\n      <th>2</th>\n      <td>1</td>\n      <td>3.63</td>\n      <td>3.63</td>\n      <td>1817</td>\n      <td>맛있는 음식점</td>\n      <td>장안구</td>\n      <td>분식집</td>\n      <td>1</td>\n      <td>발계생분면 가게 발계생분면</td>\n      <td>NaN</td>\n    </tr>\n    <tr>\n      <th>3</th>\n      <td>1</td>\n      <td>3.71</td>\n      <td>3.71</td>\n      <td>1783</td>\n      <td>맛있는 요리</td>\n      <td>장안구</td>\n      <td>가정식 요리</td>\n      <td>4</td>\n      <td>왕장훙가정식백반 요리 왕장훙가정식백반 요리</td>\n      <td>NaN</td>\n    </tr>\n    <tr>\n      <th>4</th>\n      <td>1</td>\n      <td>3.58</td>\n      <td>3.58</td>\n      <td>34295</td>\n      <td>미식_황장닭</td>\n      <td>장안구</td>\n      <td>황장계</td>\n      <td>1</td>\n      <td>특색 요화관 황장닭밥 특색 요화관 황장닭밥</td>\n      <td>NaN</td>\n    </tr>\n  </tbody>\n</table>\n</div>"
          },
          "metadata": {}
        }
      ]
    },
    {
      "metadata": {
        "trusted": true
      },
      "cell_type": "code",
      "source": "rating_data.drop('qualRating', axis = 1, inplace = True)\n#rating_data.drop('서블레이팅',axis = 1, inplace = True)\nrating_data.head()",
      "execution_count": 7,
      "outputs": [
        {
          "output_type": "execute_result",
          "execution_count": 7,
          "data": {
            "text/plain": "   geo_id  서블레이팅  food_id food_category district food_category2  ratingCount  \\\n0       1    NaN      221    맛있는 음식 마라탕      장안구            마라탕            2   \n1       1   3.52     2983        미식_열간면      장안구            열간면            1   \n2       1   3.63     1817       맛있는 음식점      장안구            분식집            1   \n3       1   3.71     1783        맛있는 요리      장안구         가정식 요리            4   \n4       1   3.58    34295        미식_황장닭      장안구            황장계            1   \n\n                       menu goodTagDistvalue  \n0  그 몇 년 동안 마라탕은 그 해 마라탕이었다              NaN  \n1       강기쇠고기 열간면 강기쇠고기 열간면              NaN  \n2            발계생분면 가게 발계생분면              NaN  \n3   왕장훙가정식백반 요리 왕장훙가정식백반 요리              NaN  \n4   특색 요화관 황장닭밥 특색 요화관 황장닭밥              NaN  ",
            "text/html": "<div>\n<table border=\"1\" class=\"dataframe\">\n  <thead>\n    <tr style=\"text-align: right;\">\n      <th></th>\n      <th>geo_id</th>\n      <th>서블레이팅</th>\n      <th>food_id</th>\n      <th>food_category</th>\n      <th>district</th>\n      <th>food_category2</th>\n      <th>ratingCount</th>\n      <th>menu</th>\n      <th>goodTagDistvalue</th>\n    </tr>\n  </thead>\n  <tbody>\n    <tr>\n      <th>0</th>\n      <td>1</td>\n      <td>NaN</td>\n      <td>221</td>\n      <td>맛있는 음식 마라탕</td>\n      <td>장안구</td>\n      <td>마라탕</td>\n      <td>2</td>\n      <td>그 몇 년 동안 마라탕은 그 해 마라탕이었다</td>\n      <td>NaN</td>\n    </tr>\n    <tr>\n      <th>1</th>\n      <td>1</td>\n      <td>3.52</td>\n      <td>2983</td>\n      <td>미식_열간면</td>\n      <td>장안구</td>\n      <td>열간면</td>\n      <td>1</td>\n      <td>강기쇠고기 열간면 강기쇠고기 열간면</td>\n      <td>NaN</td>\n    </tr>\n    <tr>\n      <th>2</th>\n      <td>1</td>\n      <td>3.63</td>\n      <td>1817</td>\n      <td>맛있는 음식점</td>\n      <td>장안구</td>\n      <td>분식집</td>\n      <td>1</td>\n      <td>발계생분면 가게 발계생분면</td>\n      <td>NaN</td>\n    </tr>\n    <tr>\n      <th>3</th>\n      <td>1</td>\n      <td>3.71</td>\n      <td>1783</td>\n      <td>맛있는 요리</td>\n      <td>장안구</td>\n      <td>가정식 요리</td>\n      <td>4</td>\n      <td>왕장훙가정식백반 요리 왕장훙가정식백반 요리</td>\n      <td>NaN</td>\n    </tr>\n    <tr>\n      <th>4</th>\n      <td>1</td>\n      <td>3.58</td>\n      <td>34295</td>\n      <td>미식_황장닭</td>\n      <td>장안구</td>\n      <td>황장계</td>\n      <td>1</td>\n      <td>특색 요화관 황장닭밥 특색 요화관 황장닭밥</td>\n      <td>NaN</td>\n    </tr>\n  </tbody>\n</table>\n</div>"
          },
          "metadata": {}
        }
      ]
    },
    {
      "metadata": {
        "trusted": true
      },
      "cell_type": "code",
      "source": "rating_data.drop('food_category', axis = 1, inplace = True)\nrating_data.head()",
      "execution_count": 8,
      "outputs": [
        {
          "output_type": "execute_result",
          "execution_count": 8,
          "data": {
            "text/plain": "   geo_id  서블레이팅  food_id district food_category2  ratingCount  \\\n0       1    NaN      221      장안구            마라탕            2   \n1       1   3.52     2983      장안구            열간면            1   \n2       1   3.63     1817      장안구            분식집            1   \n3       1   3.71     1783      장안구         가정식 요리            4   \n4       1   3.58    34295      장안구            황장계            1   \n\n                       menu goodTagDistvalue  \n0  그 몇 년 동안 마라탕은 그 해 마라탕이었다              NaN  \n1       강기쇠고기 열간면 강기쇠고기 열간면              NaN  \n2            발계생분면 가게 발계생분면              NaN  \n3   왕장훙가정식백반 요리 왕장훙가정식백반 요리              NaN  \n4   특색 요화관 황장닭밥 특색 요화관 황장닭밥              NaN  ",
            "text/html": "<div>\n<table border=\"1\" class=\"dataframe\">\n  <thead>\n    <tr style=\"text-align: right;\">\n      <th></th>\n      <th>geo_id</th>\n      <th>서블레이팅</th>\n      <th>food_id</th>\n      <th>district</th>\n      <th>food_category2</th>\n      <th>ratingCount</th>\n      <th>menu</th>\n      <th>goodTagDistvalue</th>\n    </tr>\n  </thead>\n  <tbody>\n    <tr>\n      <th>0</th>\n      <td>1</td>\n      <td>NaN</td>\n      <td>221</td>\n      <td>장안구</td>\n      <td>마라탕</td>\n      <td>2</td>\n      <td>그 몇 년 동안 마라탕은 그 해 마라탕이었다</td>\n      <td>NaN</td>\n    </tr>\n    <tr>\n      <th>1</th>\n      <td>1</td>\n      <td>3.52</td>\n      <td>2983</td>\n      <td>장안구</td>\n      <td>열간면</td>\n      <td>1</td>\n      <td>강기쇠고기 열간면 강기쇠고기 열간면</td>\n      <td>NaN</td>\n    </tr>\n    <tr>\n      <th>2</th>\n      <td>1</td>\n      <td>3.63</td>\n      <td>1817</td>\n      <td>장안구</td>\n      <td>분식집</td>\n      <td>1</td>\n      <td>발계생분면 가게 발계생분면</td>\n      <td>NaN</td>\n    </tr>\n    <tr>\n      <th>3</th>\n      <td>1</td>\n      <td>3.71</td>\n      <td>1783</td>\n      <td>장안구</td>\n      <td>가정식 요리</td>\n      <td>4</td>\n      <td>왕장훙가정식백반 요리 왕장훙가정식백반 요리</td>\n      <td>NaN</td>\n    </tr>\n    <tr>\n      <th>4</th>\n      <td>1</td>\n      <td>3.58</td>\n      <td>34295</td>\n      <td>장안구</td>\n      <td>황장계</td>\n      <td>1</td>\n      <td>특색 요화관 황장닭밥 특색 요화관 황장닭밥</td>\n      <td>NaN</td>\n    </tr>\n  </tbody>\n</table>\n</div>"
          },
          "metadata": {}
        }
      ]
    },
    {
      "metadata": {
        "trusted": true
      },
      "cell_type": "code",
      "source": "rating_data.drop('district', axis = 1, inplace = True)\nrating_data.head()",
      "execution_count": 9,
      "outputs": [
        {
          "output_type": "execute_result",
          "execution_count": 9,
          "data": {
            "text/plain": "   geo_id  서블레이팅  food_id food_category2  ratingCount  \\\n0       1    NaN      221            마라탕            2   \n1       1   3.52     2983            열간면            1   \n2       1   3.63     1817            분식집            1   \n3       1   3.71     1783         가정식 요리            4   \n4       1   3.58    34295            황장계            1   \n\n                       menu goodTagDistvalue  \n0  그 몇 년 동안 마라탕은 그 해 마라탕이었다              NaN  \n1       강기쇠고기 열간면 강기쇠고기 열간면              NaN  \n2            발계생분면 가게 발계생분면              NaN  \n3   왕장훙가정식백반 요리 왕장훙가정식백반 요리              NaN  \n4   특색 요화관 황장닭밥 특색 요화관 황장닭밥              NaN  ",
            "text/html": "<div>\n<table border=\"1\" class=\"dataframe\">\n  <thead>\n    <tr style=\"text-align: right;\">\n      <th></th>\n      <th>geo_id</th>\n      <th>서블레이팅</th>\n      <th>food_id</th>\n      <th>food_category2</th>\n      <th>ratingCount</th>\n      <th>menu</th>\n      <th>goodTagDistvalue</th>\n    </tr>\n  </thead>\n  <tbody>\n    <tr>\n      <th>0</th>\n      <td>1</td>\n      <td>NaN</td>\n      <td>221</td>\n      <td>마라탕</td>\n      <td>2</td>\n      <td>그 몇 년 동안 마라탕은 그 해 마라탕이었다</td>\n      <td>NaN</td>\n    </tr>\n    <tr>\n      <th>1</th>\n      <td>1</td>\n      <td>3.52</td>\n      <td>2983</td>\n      <td>열간면</td>\n      <td>1</td>\n      <td>강기쇠고기 열간면 강기쇠고기 열간면</td>\n      <td>NaN</td>\n    </tr>\n    <tr>\n      <th>2</th>\n      <td>1</td>\n      <td>3.63</td>\n      <td>1817</td>\n      <td>분식집</td>\n      <td>1</td>\n      <td>발계생분면 가게 발계생분면</td>\n      <td>NaN</td>\n    </tr>\n    <tr>\n      <th>3</th>\n      <td>1</td>\n      <td>3.71</td>\n      <td>1783</td>\n      <td>가정식 요리</td>\n      <td>4</td>\n      <td>왕장훙가정식백반 요리 왕장훙가정식백반 요리</td>\n      <td>NaN</td>\n    </tr>\n    <tr>\n      <th>4</th>\n      <td>1</td>\n      <td>3.58</td>\n      <td>34295</td>\n      <td>황장계</td>\n      <td>1</td>\n      <td>특색 요화관 황장닭밥 특색 요화관 황장닭밥</td>\n      <td>NaN</td>\n    </tr>\n  </tbody>\n</table>\n</div>"
          },
          "metadata": {}
        }
      ]
    },
    {
      "metadata": {
        "trusted": true
      },
      "cell_type": "code",
      "source": "rating_data.drop('food_category2', axis = 1, inplace = True)\nrating_data.head()",
      "execution_count": 10,
      "outputs": [
        {
          "output_type": "execute_result",
          "execution_count": 10,
          "data": {
            "text/plain": "   geo_id  서블레이팅  food_id  ratingCount                      menu  \\\n0       1    NaN      221            2  그 몇 년 동안 마라탕은 그 해 마라탕이었다   \n1       1   3.52     2983            1       강기쇠고기 열간면 강기쇠고기 열간면   \n2       1   3.63     1817            1            발계생분면 가게 발계생분면   \n3       1   3.71     1783            4   왕장훙가정식백반 요리 왕장훙가정식백반 요리   \n4       1   3.58    34295            1   특색 요화관 황장닭밥 특색 요화관 황장닭밥   \n\n  goodTagDistvalue  \n0              NaN  \n1              NaN  \n2              NaN  \n3              NaN  \n4              NaN  ",
            "text/html": "<div>\n<table border=\"1\" class=\"dataframe\">\n  <thead>\n    <tr style=\"text-align: right;\">\n      <th></th>\n      <th>geo_id</th>\n      <th>서블레이팅</th>\n      <th>food_id</th>\n      <th>ratingCount</th>\n      <th>menu</th>\n      <th>goodTagDistvalue</th>\n    </tr>\n  </thead>\n  <tbody>\n    <tr>\n      <th>0</th>\n      <td>1</td>\n      <td>NaN</td>\n      <td>221</td>\n      <td>2</td>\n      <td>그 몇 년 동안 마라탕은 그 해 마라탕이었다</td>\n      <td>NaN</td>\n    </tr>\n    <tr>\n      <th>1</th>\n      <td>1</td>\n      <td>3.52</td>\n      <td>2983</td>\n      <td>1</td>\n      <td>강기쇠고기 열간면 강기쇠고기 열간면</td>\n      <td>NaN</td>\n    </tr>\n    <tr>\n      <th>2</th>\n      <td>1</td>\n      <td>3.63</td>\n      <td>1817</td>\n      <td>1</td>\n      <td>발계생분면 가게 발계생분면</td>\n      <td>NaN</td>\n    </tr>\n    <tr>\n      <th>3</th>\n      <td>1</td>\n      <td>3.71</td>\n      <td>1783</td>\n      <td>4</td>\n      <td>왕장훙가정식백반 요리 왕장훙가정식백반 요리</td>\n      <td>NaN</td>\n    </tr>\n    <tr>\n      <th>4</th>\n      <td>1</td>\n      <td>3.58</td>\n      <td>34295</td>\n      <td>1</td>\n      <td>특색 요화관 황장닭밥 특색 요화관 황장닭밥</td>\n      <td>NaN</td>\n    </tr>\n  </tbody>\n</table>\n</div>"
          },
          "metadata": {}
        }
      ]
    },
    {
      "metadata": {
        "trusted": true
      },
      "cell_type": "code",
      "source": "#rating_data.drop('ratingCount', axis = 1, inplace = True)\n#rating_data.head()",
      "execution_count": 11,
      "outputs": []
    },
    {
      "metadata": {
        "scrolled": true,
        "trusted": true
      },
      "cell_type": "code",
      "source": "rating_data.head()",
      "execution_count": 12,
      "outputs": [
        {
          "output_type": "execute_result",
          "execution_count": 12,
          "data": {
            "text/plain": "   geo_id  서블레이팅  food_id  ratingCount                      menu  \\\n0       1    NaN      221            2  그 몇 년 동안 마라탕은 그 해 마라탕이었다   \n1       1   3.52     2983            1       강기쇠고기 열간면 강기쇠고기 열간면   \n2       1   3.63     1817            1            발계생분면 가게 발계생분면   \n3       1   3.71     1783            4   왕장훙가정식백반 요리 왕장훙가정식백반 요리   \n4       1   3.58    34295            1   특색 요화관 황장닭밥 특색 요화관 황장닭밥   \n\n  goodTagDistvalue  \n0              NaN  \n1              NaN  \n2              NaN  \n3              NaN  \n4              NaN  ",
            "text/html": "<div>\n<table border=\"1\" class=\"dataframe\">\n  <thead>\n    <tr style=\"text-align: right;\">\n      <th></th>\n      <th>geo_id</th>\n      <th>서블레이팅</th>\n      <th>food_id</th>\n      <th>ratingCount</th>\n      <th>menu</th>\n      <th>goodTagDistvalue</th>\n    </tr>\n  </thead>\n  <tbody>\n    <tr>\n      <th>0</th>\n      <td>1</td>\n      <td>NaN</td>\n      <td>221</td>\n      <td>2</td>\n      <td>그 몇 년 동안 마라탕은 그 해 마라탕이었다</td>\n      <td>NaN</td>\n    </tr>\n    <tr>\n      <th>1</th>\n      <td>1</td>\n      <td>3.52</td>\n      <td>2983</td>\n      <td>1</td>\n      <td>강기쇠고기 열간면 강기쇠고기 열간면</td>\n      <td>NaN</td>\n    </tr>\n    <tr>\n      <th>2</th>\n      <td>1</td>\n      <td>3.63</td>\n      <td>1817</td>\n      <td>1</td>\n      <td>발계생분면 가게 발계생분면</td>\n      <td>NaN</td>\n    </tr>\n    <tr>\n      <th>3</th>\n      <td>1</td>\n      <td>3.71</td>\n      <td>1783</td>\n      <td>4</td>\n      <td>왕장훙가정식백반 요리 왕장훙가정식백반 요리</td>\n      <td>NaN</td>\n    </tr>\n    <tr>\n      <th>4</th>\n      <td>1</td>\n      <td>3.58</td>\n      <td>34295</td>\n      <td>1</td>\n      <td>특색 요화관 황장닭밥 특색 요화관 황장닭밥</td>\n      <td>NaN</td>\n    </tr>\n  </tbody>\n</table>\n</div>"
          },
          "metadata": {}
        }
      ]
    },
    {
      "metadata": {
        "trusted": true
      },
      "cell_type": "code",
      "source": "food_data.drop('menu', axis = 1, inplace = True)\nfood_data.head()",
      "execution_count": 13,
      "outputs": [
        {
          "output_type": "execute_result",
          "execution_count": 13,
          "data": {
            "text/plain": "   food_id food_category  Unnamed: 2\n0      221    맛있는 음식 마라탕         NaN\n1     2983        미식_열간면         NaN\n2     1817       맛있는 음식점         NaN\n3     1783        맛있는 요리         NaN\n4    34295        미식_황장닭         NaN",
            "text/html": "<div>\n<table border=\"1\" class=\"dataframe\">\n  <thead>\n    <tr style=\"text-align: right;\">\n      <th></th>\n      <th>food_id</th>\n      <th>food_category</th>\n      <th>Unnamed: 2</th>\n    </tr>\n  </thead>\n  <tbody>\n    <tr>\n      <th>0</th>\n      <td>221</td>\n      <td>맛있는 음식 마라탕</td>\n      <td>NaN</td>\n    </tr>\n    <tr>\n      <th>1</th>\n      <td>2983</td>\n      <td>미식_열간면</td>\n      <td>NaN</td>\n    </tr>\n    <tr>\n      <th>2</th>\n      <td>1817</td>\n      <td>맛있는 음식점</td>\n      <td>NaN</td>\n    </tr>\n    <tr>\n      <th>3</th>\n      <td>1783</td>\n      <td>맛있는 요리</td>\n      <td>NaN</td>\n    </tr>\n    <tr>\n      <th>4</th>\n      <td>34295</td>\n      <td>미식_황장닭</td>\n      <td>NaN</td>\n    </tr>\n  </tbody>\n</table>\n</div>"
          },
          "metadata": {}
        }
      ]
    },
    {
      "metadata": {
        "trusted": true
      },
      "cell_type": "code",
      "source": "",
      "execution_count": null,
      "outputs": []
    },
    {
      "metadata": {
        "trusted": true
      },
      "cell_type": "code",
      "source": "food_data.drop('Unnamed: 2', axis = 1, inplace = True)\nfood_data.head()",
      "execution_count": 14,
      "outputs": [
        {
          "output_type": "execute_result",
          "execution_count": 14,
          "data": {
            "text/plain": "   food_id food_category\n0      221    맛있는 음식 마라탕\n1     2983        미식_열간면\n2     1817       맛있는 음식점\n3     1783        맛있는 요리\n4    34295        미식_황장닭",
            "text/html": "<div>\n<table border=\"1\" class=\"dataframe\">\n  <thead>\n    <tr style=\"text-align: right;\">\n      <th></th>\n      <th>food_id</th>\n      <th>food_category</th>\n    </tr>\n  </thead>\n  <tbody>\n    <tr>\n      <th>0</th>\n      <td>221</td>\n      <td>맛있는 음식 마라탕</td>\n    </tr>\n    <tr>\n      <th>1</th>\n      <td>2983</td>\n      <td>미식_열간면</td>\n    </tr>\n    <tr>\n      <th>2</th>\n      <td>1817</td>\n      <td>맛있는 음식점</td>\n    </tr>\n    <tr>\n      <th>3</th>\n      <td>1783</td>\n      <td>맛있는 요리</td>\n    </tr>\n    <tr>\n      <th>4</th>\n      <td>34295</td>\n      <td>미식_황장닭</td>\n    </tr>\n  </tbody>\n</table>\n</div>"
          },
          "metadata": {}
        }
      ]
    },
    {
      "metadata": {
        "trusted": true
      },
      "cell_type": "code",
      "source": "",
      "execution_count": null,
      "outputs": []
    },
    {
      "metadata": {
        "trusted": true
      },
      "cell_type": "code",
      "source": "user_movie_data = pd.merge(rating_data, food_data, on = 'food_id')\nuser_movie_data.head()",
      "execution_count": 15,
      "outputs": [
        {
          "output_type": "execute_result",
          "execution_count": 15,
          "data": {
            "text/plain": "   geo_id  서블레이팅  food_id  ratingCount                      menu  \\\n0       1    NaN      221            2  그 몇 년 동안 마라탕은 그 해 마라탕이었다   \n1       1    NaN      221            2  그 몇 년 동안 마라탕은 그 해 마라탕이었다   \n2       1    NaN      221            2  그 몇 년 동안 마라탕은 그 해 마라탕이었다   \n3       1    NaN      221            2  그 몇 년 동안 마라탕은 그 해 마라탕이었다   \n4       1    3.7      221            2       쥐신 쌀실 마라탕 쥐신 쌀실 마라탕   \n\n  goodTagDistvalue food_category  \n0              NaN    맛있는 음식 마라탕  \n1              NaN    맛있는 음식 마라탕  \n2              NaN    맛있는 음식 마라탕  \n3              NaN    맛있는 음식 마라탕  \n4              NaN    맛있는 음식 마라탕  ",
            "text/html": "<div>\n<table border=\"1\" class=\"dataframe\">\n  <thead>\n    <tr style=\"text-align: right;\">\n      <th></th>\n      <th>geo_id</th>\n      <th>서블레이팅</th>\n      <th>food_id</th>\n      <th>ratingCount</th>\n      <th>menu</th>\n      <th>goodTagDistvalue</th>\n      <th>food_category</th>\n    </tr>\n  </thead>\n  <tbody>\n    <tr>\n      <th>0</th>\n      <td>1</td>\n      <td>NaN</td>\n      <td>221</td>\n      <td>2</td>\n      <td>그 몇 년 동안 마라탕은 그 해 마라탕이었다</td>\n      <td>NaN</td>\n      <td>맛있는 음식 마라탕</td>\n    </tr>\n    <tr>\n      <th>1</th>\n      <td>1</td>\n      <td>NaN</td>\n      <td>221</td>\n      <td>2</td>\n      <td>그 몇 년 동안 마라탕은 그 해 마라탕이었다</td>\n      <td>NaN</td>\n      <td>맛있는 음식 마라탕</td>\n    </tr>\n    <tr>\n      <th>2</th>\n      <td>1</td>\n      <td>NaN</td>\n      <td>221</td>\n      <td>2</td>\n      <td>그 몇 년 동안 마라탕은 그 해 마라탕이었다</td>\n      <td>NaN</td>\n      <td>맛있는 음식 마라탕</td>\n    </tr>\n    <tr>\n      <th>3</th>\n      <td>1</td>\n      <td>NaN</td>\n      <td>221</td>\n      <td>2</td>\n      <td>그 몇 년 동안 마라탕은 그 해 마라탕이었다</td>\n      <td>NaN</td>\n      <td>맛있는 음식 마라탕</td>\n    </tr>\n    <tr>\n      <th>4</th>\n      <td>1</td>\n      <td>3.7</td>\n      <td>221</td>\n      <td>2</td>\n      <td>쥐신 쌀실 마라탕 쥐신 쌀실 마라탕</td>\n      <td>NaN</td>\n      <td>맛있는 음식 마라탕</td>\n    </tr>\n  </tbody>\n</table>\n</div>"
          },
          "metadata": {}
        }
      ]
    },
    {
      "metadata": {
        "trusted": true
      },
      "cell_type": "code",
      "source": "",
      "execution_count": null,
      "outputs": []
    },
    {
      "metadata": {
        "trusted": true
      },
      "cell_type": "code",
      "source": "\nuser_food_data = pd.merge(rating_data, food_data, on = 'food_id')\nuser_food_data.head()",
      "execution_count": 16,
      "outputs": [
        {
          "output_type": "execute_result",
          "execution_count": 16,
          "data": {
            "text/plain": "   geo_id  서블레이팅  food_id  ratingCount                      menu  \\\n0       1    NaN      221            2  그 몇 년 동안 마라탕은 그 해 마라탕이었다   \n1       1    NaN      221            2  그 몇 년 동안 마라탕은 그 해 마라탕이었다   \n2       1    NaN      221            2  그 몇 년 동안 마라탕은 그 해 마라탕이었다   \n3       1    NaN      221            2  그 몇 년 동안 마라탕은 그 해 마라탕이었다   \n4       1    3.7      221            2       쥐신 쌀실 마라탕 쥐신 쌀실 마라탕   \n\n  goodTagDistvalue food_category  \n0              NaN    맛있는 음식 마라탕  \n1              NaN    맛있는 음식 마라탕  \n2              NaN    맛있는 음식 마라탕  \n3              NaN    맛있는 음식 마라탕  \n4              NaN    맛있는 음식 마라탕  ",
            "text/html": "<div>\n<table border=\"1\" class=\"dataframe\">\n  <thead>\n    <tr style=\"text-align: right;\">\n      <th></th>\n      <th>geo_id</th>\n      <th>서블레이팅</th>\n      <th>food_id</th>\n      <th>ratingCount</th>\n      <th>menu</th>\n      <th>goodTagDistvalue</th>\n      <th>food_category</th>\n    </tr>\n  </thead>\n  <tbody>\n    <tr>\n      <th>0</th>\n      <td>1</td>\n      <td>NaN</td>\n      <td>221</td>\n      <td>2</td>\n      <td>그 몇 년 동안 마라탕은 그 해 마라탕이었다</td>\n      <td>NaN</td>\n      <td>맛있는 음식 마라탕</td>\n    </tr>\n    <tr>\n      <th>1</th>\n      <td>1</td>\n      <td>NaN</td>\n      <td>221</td>\n      <td>2</td>\n      <td>그 몇 년 동안 마라탕은 그 해 마라탕이었다</td>\n      <td>NaN</td>\n      <td>맛있는 음식 마라탕</td>\n    </tr>\n    <tr>\n      <th>2</th>\n      <td>1</td>\n      <td>NaN</td>\n      <td>221</td>\n      <td>2</td>\n      <td>그 몇 년 동안 마라탕은 그 해 마라탕이었다</td>\n      <td>NaN</td>\n      <td>맛있는 음식 마라탕</td>\n    </tr>\n    <tr>\n      <th>3</th>\n      <td>1</td>\n      <td>NaN</td>\n      <td>221</td>\n      <td>2</td>\n      <td>그 몇 년 동안 마라탕은 그 해 마라탕이었다</td>\n      <td>NaN</td>\n      <td>맛있는 음식 마라탕</td>\n    </tr>\n    <tr>\n      <th>4</th>\n      <td>1</td>\n      <td>3.7</td>\n      <td>221</td>\n      <td>2</td>\n      <td>쥐신 쌀실 마라탕 쥐신 쌀실 마라탕</td>\n      <td>NaN</td>\n      <td>맛있는 음식 마라탕</td>\n    </tr>\n  </tbody>\n</table>\n</div>"
          },
          "metadata": {}
        }
      ]
    },
    {
      "metadata": {
        "outputExpanded": false,
        "jupyter": {
          "source_hidden": false,
          "outputs_hidden": false
        },
        "nteract": {
          "transient": {
            "deleting": false
          }
        },
        "trusted": true
      },
      "cell_type": "code",
      "source": "# rating_count 가중치 더해주는 부분\n# 가점 방식도 고려\n\n##########################################################\n\n#ratingCount = user_food_data.ratingCount\n#ratingCount.head()\n\n",
      "execution_count": 17,
      "outputs": []
    },
    {
      "metadata": {
        "outputExpanded": false,
        "jupyter": {
          "source_hidden": false,
          "outputs_hidden": false
        },
        "nteract": {
          "transient": {
            "deleting": false
          }
        },
        "trusted": true
      },
      "cell_type": "code",
      "source": "#ratingCount = ratingCount / 10\n#ratingCount.head()",
      "execution_count": 18,
      "outputs": []
    },
    {
      "metadata": {
        "outputExpanded": false,
        "jupyter": {
          "source_hidden": false,
          "outputs_hidden": false
        },
        "nteract": {
          "transient": {
            "deleting": false
          }
        },
        "trusted": true
      },
      "cell_type": "code",
      "source": "",
      "execution_count": null,
      "outputs": []
    },
    {
      "metadata": {
        "outputExpanded": false,
        "jupyter": {
          "source_hidden": false,
          "outputs_hidden": false
        },
        "nteract": {
          "transient": {
            "deleting": false
          }
        },
        "trusted": true,
        "scrolled": true
      },
      "cell_type": "code",
      "source": "#for i, row in user_food_data.iterrows() :\n#    if user_food_data.at[i,'ratingCount'] < 100 and user_food_data.at[i,'ratingCount'] > 0:\n#        user_food_data.at[i, '서블레이팅'] = user_food_data.at[i, '서블레이팅'] * 0.5 + 0.05 * ratingCount.at[i] * user_food_data.at[i, '서블레이팅']\n        \n#user_food_data.head()\n\n##########################################################",
      "execution_count": 19,
      "outputs": []
    },
    {
      "metadata": {
        "trusted": true
      },
      "cell_type": "code",
      "source": "#goodtag_value와 ratingCount 가중치 더해주기\n# 먼저 별점에 적용 -> 후에 column으로 추가해서 ml에 적용해보기\n\n##########################################################\n\n",
      "execution_count": 20,
      "outputs": []
    },
    {
      "metadata": {
        "trusted": true
      },
      "cell_type": "code",
      "source": "for i, row in user_food_data.iterrows() :\n    #print(user_food_data.at[i,'goodTagDistvalue'])\n    if str(type(user_food_data.at[i,'goodTagDistvalue'])) == \"<class 'str'>\" :\n        Sum = 0\n        Split = user_food_data.at[i,'goodTagDistvalue'].split('|')\n        #print(Split)\n        for x in range(0,len(Split)) :\n            \n            Sum = Sum + int(Split[x])\n        user_food_data.at[i,'goodTagDistvalue'] = Sum\n        \n#for i, row in user_food_data.iterrows() :\n#    print(user_food_data.at[i,'goodTagDistvalue'])      \nuser_food_data.head()",
      "execution_count": 21,
      "outputs": [
        {
          "output_type": "execute_result",
          "execution_count": 21,
          "data": {
            "text/plain": "   geo_id  서블레이팅  food_id  ratingCount                      menu  \\\n0       1    NaN      221            2  그 몇 년 동안 마라탕은 그 해 마라탕이었다   \n1       1    NaN      221            2  그 몇 년 동안 마라탕은 그 해 마라탕이었다   \n2       1    NaN      221            2  그 몇 년 동안 마라탕은 그 해 마라탕이었다   \n3       1    NaN      221            2  그 몇 년 동안 마라탕은 그 해 마라탕이었다   \n4       1    3.7      221            2       쥐신 쌀실 마라탕 쥐신 쌀실 마라탕   \n\n  goodTagDistvalue food_category  \n0              NaN    맛있는 음식 마라탕  \n1              NaN    맛있는 음식 마라탕  \n2              NaN    맛있는 음식 마라탕  \n3              NaN    맛있는 음식 마라탕  \n4              NaN    맛있는 음식 마라탕  ",
            "text/html": "<div>\n<table border=\"1\" class=\"dataframe\">\n  <thead>\n    <tr style=\"text-align: right;\">\n      <th></th>\n      <th>geo_id</th>\n      <th>서블레이팅</th>\n      <th>food_id</th>\n      <th>ratingCount</th>\n      <th>menu</th>\n      <th>goodTagDistvalue</th>\n      <th>food_category</th>\n    </tr>\n  </thead>\n  <tbody>\n    <tr>\n      <th>0</th>\n      <td>1</td>\n      <td>NaN</td>\n      <td>221</td>\n      <td>2</td>\n      <td>그 몇 년 동안 마라탕은 그 해 마라탕이었다</td>\n      <td>NaN</td>\n      <td>맛있는 음식 마라탕</td>\n    </tr>\n    <tr>\n      <th>1</th>\n      <td>1</td>\n      <td>NaN</td>\n      <td>221</td>\n      <td>2</td>\n      <td>그 몇 년 동안 마라탕은 그 해 마라탕이었다</td>\n      <td>NaN</td>\n      <td>맛있는 음식 마라탕</td>\n    </tr>\n    <tr>\n      <th>2</th>\n      <td>1</td>\n      <td>NaN</td>\n      <td>221</td>\n      <td>2</td>\n      <td>그 몇 년 동안 마라탕은 그 해 마라탕이었다</td>\n      <td>NaN</td>\n      <td>맛있는 음식 마라탕</td>\n    </tr>\n    <tr>\n      <th>3</th>\n      <td>1</td>\n      <td>NaN</td>\n      <td>221</td>\n      <td>2</td>\n      <td>그 몇 년 동안 마라탕은 그 해 마라탕이었다</td>\n      <td>NaN</td>\n      <td>맛있는 음식 마라탕</td>\n    </tr>\n    <tr>\n      <th>4</th>\n      <td>1</td>\n      <td>3.7</td>\n      <td>221</td>\n      <td>2</td>\n      <td>쥐신 쌀실 마라탕 쥐신 쌀실 마라탕</td>\n      <td>NaN</td>\n      <td>맛있는 음식 마라탕</td>\n    </tr>\n  </tbody>\n</table>\n</div>"
          },
          "metadata": {}
        }
      ]
    },
    {
      "metadata": {
        "trusted": true
      },
      "cell_type": "code",
      "source": "ratingCount = user_food_data.ratingCount\ngoodtagValue = user_food_data.goodTagDistvalue\n\nweight = goodtagValue/ratingCount\n\nprint(weight)",
      "execution_count": 22,
      "outputs": [
        {
          "output_type": "stream",
          "text": "0            NaN\n1            NaN\n2            NaN\n3            NaN\n4            NaN\n5            NaN\n6            NaN\n7            NaN\n8        1.23529\n9        1.23529\n10       1.23529\n11       1.23529\n12           NaN\n13           NaN\n14           NaN\n15           NaN\n16           NaN\n17           NaN\n18           NaN\n19           NaN\n20           NaN\n21           NaN\n22           NaN\n23           NaN\n24           NaN\n25           NaN\n26           NaN\n27          0.64\n28          0.64\n29          0.64\n          ...   \n6508         NaN\n6509         NaN\n6510         NaN\n6511         NaN\n6512         NaN\n6513         NaN\n6514         NaN\n6515         NaN\n6516    0.541667\n6517    0.545455\n6518    0.545455\n6519         NaN\n6520         NaN\n6521         0.6\n6522         0.6\n6523         0.6\n6524    0.674772\n6525    0.674772\n6526    0.674772\n6527    0.266667\n6528    0.266667\n6529    0.266667\n6530         NaN\n6531         NaN\n6532         NaN\n6533         NaN\n6534        0.25\n6535    0.599119\n6536         NaN\n6537         NaN\ndtype: object\n",
          "name": "stdout"
        }
      ]
    },
    {
      "metadata": {
        "trusted": true
      },
      "cell_type": "code",
      "source": "weight.fillna(0)\n\nfor i, row in user_food_data.iterrows() :\n        user_food_data.at[i, '서블레이팅'] = user_food_data.at[i, '서블레이팅'] +  weight.at[i] / 2\n        \nuser_food_data.head()",
      "execution_count": 23,
      "outputs": [
        {
          "output_type": "execute_result",
          "execution_count": 23,
          "data": {
            "text/plain": "   geo_id  서블레이팅  food_id  ratingCount                      menu  \\\n0       1    NaN      221            2  그 몇 년 동안 마라탕은 그 해 마라탕이었다   \n1       1    NaN      221            2  그 몇 년 동안 마라탕은 그 해 마라탕이었다   \n2       1    NaN      221            2  그 몇 년 동안 마라탕은 그 해 마라탕이었다   \n3       1    NaN      221            2  그 몇 년 동안 마라탕은 그 해 마라탕이었다   \n4       1    NaN      221            2       쥐신 쌀실 마라탕 쥐신 쌀실 마라탕   \n\n  goodTagDistvalue food_category  \n0              NaN    맛있는 음식 마라탕  \n1              NaN    맛있는 음식 마라탕  \n2              NaN    맛있는 음식 마라탕  \n3              NaN    맛있는 음식 마라탕  \n4              NaN    맛있는 음식 마라탕  ",
            "text/html": "<div>\n<table border=\"1\" class=\"dataframe\">\n  <thead>\n    <tr style=\"text-align: right;\">\n      <th></th>\n      <th>geo_id</th>\n      <th>서블레이팅</th>\n      <th>food_id</th>\n      <th>ratingCount</th>\n      <th>menu</th>\n      <th>goodTagDistvalue</th>\n      <th>food_category</th>\n    </tr>\n  </thead>\n  <tbody>\n    <tr>\n      <th>0</th>\n      <td>1</td>\n      <td>NaN</td>\n      <td>221</td>\n      <td>2</td>\n      <td>그 몇 년 동안 마라탕은 그 해 마라탕이었다</td>\n      <td>NaN</td>\n      <td>맛있는 음식 마라탕</td>\n    </tr>\n    <tr>\n      <th>1</th>\n      <td>1</td>\n      <td>NaN</td>\n      <td>221</td>\n      <td>2</td>\n      <td>그 몇 년 동안 마라탕은 그 해 마라탕이었다</td>\n      <td>NaN</td>\n      <td>맛있는 음식 마라탕</td>\n    </tr>\n    <tr>\n      <th>2</th>\n      <td>1</td>\n      <td>NaN</td>\n      <td>221</td>\n      <td>2</td>\n      <td>그 몇 년 동안 마라탕은 그 해 마라탕이었다</td>\n      <td>NaN</td>\n      <td>맛있는 음식 마라탕</td>\n    </tr>\n    <tr>\n      <th>3</th>\n      <td>1</td>\n      <td>NaN</td>\n      <td>221</td>\n      <td>2</td>\n      <td>그 몇 년 동안 마라탕은 그 해 마라탕이었다</td>\n      <td>NaN</td>\n      <td>맛있는 음식 마라탕</td>\n    </tr>\n    <tr>\n      <th>4</th>\n      <td>1</td>\n      <td>NaN</td>\n      <td>221</td>\n      <td>2</td>\n      <td>쥐신 쌀실 마라탕 쥐신 쌀실 마라탕</td>\n      <td>NaN</td>\n      <td>맛있는 음식 마라탕</td>\n    </tr>\n  </tbody>\n</table>\n</div>"
          },
          "metadata": {}
        }
      ]
    },
    {
      "metadata": {
        "trusted": true
      },
      "cell_type": "code",
      "source": "for i, row in user_food_data.iterrows() :\n    print(user_food_data.at[i,'서블레이팅'])",
      "execution_count": 61,
      "outputs": [
        {
          "output_type": "stream",
          "text": "nan\nnan\nnan\nnan\nnan\nnan\nnan\nnan\n4.40764705882353\n4.40764705882353\n4.40764705882353\n4.40764705882353\nnan\nnan\nnan\nnan\nnan\nnan\nnan\nnan\nnan\nnan\nnan\nnan\nnan\nnan\nnan\n3.92\n3.92\n3.92\n3.92\n3.92\n3.92\n3.92\n3.92\n3.92\n3.92\n3.92\n3.6775\n3.6775\n3.6775\n3.6775\n3.6775\n3.6775\n3.6775\n3.6775\n3.6775\n3.6775\n3.6775\nnan\nnan\nnan\nnan\nnan\nnan\nnan\nnan\nnan\nnan\nnan\nnan\nnan\nnan\nnan\nnan\nnan\nnan\nnan\nnan\nnan\nnan\nnan\nnan\nnan\nnan\nnan\nnan\nnan\nnan\nnan\nnan\nnan\nnan\nnan\nnan\nnan\nnan\nnan\nnan\nnan\nnan\nnan\nnan\nnan\nnan\nnan\nnan\nnan\nnan\nnan\nnan\nnan\nnan\nnan\nnan\nnan\nnan\nnan\nnan\nnan\nnan\nnan\nnan\nnan\nnan\nnan\nnan\nnan\nnan\nnan\nnan\nnan\nnan\nnan\nnan\nnan\nnan\nnan\nnan\nnan\nnan\nnan\nnan\nnan\nnan\nnan\nnan\nnan\nnan\nnan\nnan\nnan\nnan\nnan\nnan\nnan\nnan\nnan\nnan\nnan\nnan\nnan\nnan\nnan\nnan\nnan\nnan\nnan\nnan\nnan\nnan\nnan\nnan\nnan\nnan\nnan\nnan\nnan\nnan\nnan\nnan\nnan\nnan\nnan\nnan\nnan\nnan\nnan\nnan\nnan\nnan\nnan\nnan\nnan\nnan\nnan\nnan\nnan\nnan\nnan\nnan\nnan\nnan\nnan\nnan\nnan\nnan\nnan\nnan\nnan\nnan\nnan\nnan\nnan\nnan\nnan\nnan\nnan\nnan\nnan\nnan\nnan\nnan\nnan\nnan\nnan\nnan\nnan\nnan\nnan\nnan\n3.8257142857142856\n3.8257142857142856\n3.8257142857142856\n3.8257142857142856\n3.8257142857142856\n3.8257142857142856\n3.8257142857142856\n3.8257142857142856\n3.8257142857142856\n3.8257142857142856\n3.8257142857142856\n3.8257142857142856\n3.8257142857142856\n3.8257142857142856\n3.8257142857142856\n3.8257142857142856\n3.8257142857142856\n3.8257142857142856\n3.8257142857142856\n3.8257142857142856\n3.8257142857142856\nnan\nnan\nnan\nnan\nnan\nnan\nnan\nnan\nnan\nnan\nnan\nnan\nnan\nnan\nnan\nnan\nnan\nnan\nnan\nnan\nnan\n3.9905263157894737\n3.9905263157894737\n3.9905263157894737\n3.9905263157894737\n3.9905263157894737\n3.9905263157894737\n3.9905263157894737\n3.9905263157894737\n3.9905263157894737\n3.9905263157894737\n3.9905263157894737\n3.9905263157894737\n3.9905263157894737\n3.9905263157894737\n3.9905263157894737\n3.9905263157894737\n3.9905263157894737\n3.9905263157894737\n3.9905263157894737\n3.9905263157894737\n3.9905263157894737\n3.905\n3.905\n3.905\n3.905\n3.905\n3.905\n3.905\n3.905\n3.905\n3.905\n3.905\n3.905\n3.905\n3.905\n3.905\n3.905\n3.905\n3.905\n3.905\n3.905\n3.905\nnan\nnan\nnan\nnan\nnan\nnan\nnan\nnan\nnan\nnan\nnan\nnan\nnan\nnan\nnan\nnan\nnan\nnan\nnan\nnan\nnan\nnan\nnan\nnan\nnan\nnan\nnan\nnan\nnan\nnan\nnan\nnan\nnan\nnan\nnan\nnan\nnan\nnan\nnan\nnan\nnan\nnan\nnan\nnan\nnan\nnan\nnan\nnan\nnan\nnan\nnan\nnan\nnan\nnan\nnan\nnan\nnan\nnan\nnan\nnan\nnan\nnan\nnan\nnan\nnan\nnan\nnan\nnan\nnan\nnan\nnan\nnan\nnan\nnan\nnan\nnan\nnan\nnan\nnan\nnan\nnan\nnan\nnan\nnan\nnan\nnan\nnan\nnan\nnan\nnan\nnan\nnan\nnan\nnan\nnan\nnan\nnan\nnan\nnan\nnan\nnan\nnan\nnan\nnan\nnan\nnan\nnan\nnan\nnan\nnan\nnan\nnan\nnan\nnan\nnan\nnan\nnan\nnan\nnan\nnan\nnan\nnan\nnan\nnan\nnan\nnan\n3.997692307692308\n3.997692307692308\n3.997692307692308\n3.997692307692308\n3.997692307692308\n3.997692307692308\n3.997692307692308\n3.997692307692308\n3.997692307692308\n3.997692307692308\n3.997692307692308\n3.997692307692308\n3.997692307692308\n3.997692307692308\n3.997692307692308\n3.997692307692308\n3.997692307692308\n3.997692307692308\n3.997692307692308\n3.997692307692308\n3.997692307692308\nnan\nnan\nnan\nnan\nnan\nnan\nnan\nnan\nnan\nnan\nnan\nnan\nnan\nnan\nnan\nnan\nnan\nnan\nnan\nnan\nnan\nnan\nnan\nnan\nnan\nnan\nnan\nnan\nnan\nnan\nnan\nnan\nnan\nnan\nnan\nnan\nnan\nnan\nnan\nnan\nnan\nnan\n4.127777777777778\n4.127777777777778\n4.127777777777778\n4.127777777777778\n4.127777777777778\n4.127777777777778\n4.127777777777778\n4.127777777777778\n4.127777777777778\n4.127777777777778\n4.127777777777778\n4.127777777777778\n4.127777777777778\n4.127777777777778\n4.127777777777778\n4.127777777777778\n4.127777777777778\n4.127777777777778\n4.127777777777778\n4.127777777777778\n4.127777777777778\nnan\nnan\nnan\nnan\nnan\nnan\nnan\nnan\nnan\nnan\nnan\nnan\nnan\nnan\nnan\nnan\nnan\nnan\nnan\nnan\nnan\nnan\nnan\nnan\nnan\nnan\nnan\nnan\nnan\nnan\nnan\nnan\nnan\nnan\nnan\nnan\nnan\nnan\nnan\nnan\nnan\nnan\nnan\nnan\nnan\nnan\nnan\nnan\nnan\nnan\nnan\nnan\nnan\nnan\nnan\nnan\nnan\nnan\nnan\nnan\nnan\nnan\nnan\nnan\nnan\nnan\nnan\nnan\nnan\nnan\nnan\nnan\nnan\nnan\nnan\nnan\nnan\nnan\nnan\nnan\nnan\nnan\nnan\nnan\nnan\nnan\nnan\n4.005\n4.005\n4.005\n4.005\n4.005\n4.005\n4.005\n4.005\nnan\nnan\nnan\nnan\nnan\nnan\nnan\nnan\nnan\nnan\nnan\nnan\nnan\nnan\nnan\nnan\n4.645324675324676\n4.645324675324676\n4.645324675324676\n4.645324675324676\n4.645324675324676\n4.645324675324676\n4.645324675324676\n4.645324675324676\nnan\nnan\nnan\nnan\nnan\nnan\nnan\nnan\nnan\nnan\nnan\nnan\n3.9\n3.9\n3.9\n3.9\n3.9\n3.9\n3.9\n3.9\n3.851538461538462\n3.851538461538462\n3.851538461538462\n3.851538461538462\nnan\nnan\nnan\nnan\nnan\nnan\nnan\nnan\n4.09\n4.09\n4.09\n4.09\n4.09\n4.09\n4.09\n4.09\n4.09\n4.09\n4.09\n4.09\n4.09\n4.09\n4.09\n4.09\n4.09\n4.09\n4.09\n4.09\n4.09\n4.09\n4.09\n4.09\n4.09\n4.09\n4.09\n4.09\n4.09\n4.09\n4.09\n4.09\n4.09\n4.09\n4.09\n4.09\n4.09\n4.09\n4.09\n4.09\n4.09\n4.09\n4.09\n4.09\n4.09\n4.09\n4.09\n4.09\n4.09\n4.09\n4.09\n4.09\n4.09\n4.09\n4.09\n4.09\n4.09\n4.09\n4.09\n4.09\nnan\nnan\nnan\nnan\nnan\nnan\nnan\nnan\nnan\nnan\nnan\nnan\nnan\nnan\nnan\nnan\nnan\nnan\nnan\nnan\nnan\nnan\nnan\nnan\nnan\nnan\nnan\nnan\nnan\nnan\nnan\nnan\nnan\nnan\nnan\nnan\nnan\nnan\nnan\nnan\nnan\nnan\nnan\nnan\nnan\nnan\nnan\nnan\nnan\nnan\nnan\nnan\nnan\nnan\nnan\nnan\nnan\nnan\nnan\nnan\n3.9299999999999997\n3.9299999999999997\n3.9299999999999997\n3.9299999999999997\n3.9299999999999997\n3.9299999999999997\n3.9299999999999997\n3.9299999999999997\n3.9299999999999997\n3.9299999999999997\n3.9299999999999997\n3.9299999999999997\n3.9299999999999997\n3.9299999999999997\n3.9299999999999997\n3.9299999999999997\n3.9299999999999997\n3.9299999999999997\n3.9299999999999997\n3.9299999999999997\n3.9299999999999997\n3.9299999999999997\n3.9299999999999997\n3.9299999999999997\n3.9299999999999997\n3.9299999999999997\n3.9299999999999997\n3.9299999999999997\n3.9299999999999997\n3.9299999999999997\n3.9299999999999997\n3.9299999999999997\n3.9299999999999997\n3.9299999999999997\n3.9299999999999997\n3.9299999999999997\n3.9299999999999997\n3.9299999999999997\n3.9299999999999997\n3.9299999999999997\n3.9299999999999997\n3.9299999999999997\n3.9299999999999997\n3.9299999999999997\n3.9299999999999997\n3.9299999999999997\n3.9299999999999997\n3.9299999999999997\n3.9299999999999997\n3.9299999999999997\n3.9299999999999997\n3.9299999999999997\n3.9299999999999997\n3.9299999999999997\n3.9299999999999997\n3.9299999999999997\n3.9299999999999997\n3.9299999999999997\n3.9299999999999997\n3.9299999999999997\n4.01\n4.01\n4.01\n4.01\n4.01\n4.01\n4.01\n4.01\n4.01\n4.01\n4.01\n4.01\n4.01\n4.01\n4.01\n4.01\n4.01\n4.01\n4.01\n4.01\n4.01\n4.01\n4.01\n4.01\n4.01\n4.01\n4.01\n4.01\n4.01\n4.01\n4.01\n4.01\n4.01\n4.01\n4.01\n4.01\n4.01\n4.01\n4.01\n4.01\n4.01\n4.01\n4.01\n4.01\n4.01\n4.01\n4.01\n4.01\n4.01\n4.01\n4.01\n4.01\n4.01\n4.01\n4.01\n4.01\n4.01\n4.01\n4.01\n4.01\n3.98\n3.98\n3.98\n3.98\n3.98\n3.98\n3.98\n3.98\n3.98\n3.98\n3.98\n3.98\n3.98\n3.98\n3.98\n3.98\n3.98\n3.98\n3.98\n3.98\n3.98\n3.98\n3.98\n3.98\n3.98\n3.98\n3.98\n3.98\n3.98\n3.98\n3.98\n3.98\n3.98\n3.98\n3.98\n3.98\n3.98\n3.98\n3.98\n3.98\n3.98\n3.98\n3.98\n3.98\n3.98\n3.98\n3.98\n3.98\n3.98\n3.98\n3.98\n3.98\n3.98\n3.98\n3.98\n3.98\n3.98\n3.98\n3.98\n3.98\nnan\nnan\nnan\nnan\nnan\nnan\nnan\nnan\nnan\nnan\nnan\nnan\nnan\nnan\nnan\nnan\nnan\nnan\nnan\nnan\nnan\nnan\nnan\nnan\nnan\nnan\nnan\nnan\nnan\nnan\nnan\nnan\nnan\nnan\nnan\nnan\nnan\nnan\nnan\nnan\nnan\nnan\nnan\nnan\nnan\nnan\nnan\nnan\nnan\nnan\nnan\nnan\nnan\nnan\nnan\nnan\nnan\nnan\nnan\nnan\n4.36\n4.36\n4.36\n4.36\n4.36\n4.36\n4.36\n4.36\n4.36\n4.36\n4.36\n4.36\n4.36\n4.36\n4.36\n4.36\n4.36\n4.36\n4.36\n4.36\n4.36\n4.36\n4.36\n4.36\n4.36\n4.36\n4.36\n4.36\n4.36\n4.36\n4.36\n4.36\n4.36\n4.36\n4.36\n4.36\n4.36\n4.36\n4.36\n4.36\n4.36\n4.36\n4.36\n4.36\n4.36\n4.36\n4.36\n4.36\n4.36\n4.36\n4.36\n4.36\n4.36\n4.36\n4.36\n4.36\n4.36\n4.36\n4.36\n4.36\nnan\nnan\nnan\nnan\nnan\nnan\nnan\nnan\nnan\nnan\nnan\nnan\nnan\nnan\nnan\nnan\nnan\nnan\nnan\nnan\nnan\nnan\nnan\nnan\nnan\nnan\nnan\nnan\nnan\nnan\nnan\nnan\nnan\nnan\nnan\nnan\nnan\nnan\nnan\nnan\nnan\nnan\nnan\nnan\nnan\nnan\nnan\nnan\nnan\nnan\nnan\nnan\nnan\nnan\nnan\nnan\nnan\nnan\nnan\nnan\nnan\nnan\nnan\nnan\nnan\nnan\nnan\nnan\nnan\nnan\nnan\nnan\nnan\nnan\nnan\nnan\nnan\nnan\nnan\nnan\nnan\nnan\nnan\nnan\nnan\nnan\nnan\nnan\nnan\nnan\nnan\nnan\nnan\nnan\nnan\nnan\nnan\nnan\nnan\nnan\nnan\nnan\nnan\nnan\nnan\nnan\nnan\nnan\nnan\nnan\nnan\nnan\nnan\nnan\nnan\nnan\nnan\nnan\nnan\nnan\nnan\nnan\nnan\nnan\nnan\nnan\nnan\nnan\nnan\nnan\nnan\nnan\nnan\nnan\nnan\nnan\nnan\nnan\nnan\nnan\nnan\nnan\nnan\nnan\nnan\nnan\nnan\nnan\nnan\nnan\nnan\nnan\nnan\nnan\nnan\nnan\nnan\nnan\nnan\nnan\nnan\nnan\nnan\nnan\nnan\nnan\nnan\nnan\nnan\nnan\nnan\nnan\nnan\nnan\nnan\nnan\nnan\nnan\nnan\nnan\nnan\nnan\nnan\nnan\nnan\nnan\nnan\nnan\nnan\nnan\nnan\nnan\nnan\nnan\nnan\nnan\nnan\nnan\nnan\nnan\nnan\nnan\nnan\nnan\nnan\nnan\nnan\nnan\nnan\nnan\nnan\nnan\nnan\nnan\nnan\nnan\nnan\nnan\nnan\nnan\nnan\nnan\nnan\nnan\nnan\nnan\nnan\nnan\nnan\nnan\nnan\nnan\nnan\nnan\nnan\nnan\nnan\nnan\nnan\nnan\nnan\nnan\nnan\nnan\nnan\nnan\nnan\nnan\nnan\nnan\nnan\nnan\nnan\nnan\nnan\nnan\nnan\nnan\nnan\nnan\nnan\nnan\nnan\nnan\nnan\nnan\nnan\nnan\nnan\nnan\nnan\nnan\nnan\nnan\nnan\nnan\nnan\nnan\nnan\nnan\nnan\nnan\nnan\nnan\nnan\nnan\nnan\nnan\nnan\nnan\nnan\nnan\nnan\nnan\nnan\nnan\nnan\nnan\nnan\nnan\n4.18\n4.18\n4.18\n4.18\n4.18\n4.18\n4.18\n4.18\n4.18\n4.18\n4.18\n4.18\n4.18\n4.18\n4.18\n4.18\n4.18\n4.18\n4.18\n4.18\n4.18\n4.18\n4.18\n4.18\n4.18\n4.18\n4.18\n4.18\n4.18\n4.18\n4.18\n4.18\n4.18\n4.18\n4.18\n4.18\n4.18\n4.18\n4.18\n4.18\n4.18\n4.18\n4.18\n4.18\n4.18\n4.18\n4.18\n4.18\n4.18\n4.18\n4.18\n",
          "name": "stdout"
        },
        {
          "output_type": "stream",
          "text": "4.18\n4.18\n4.18\n4.18\n4.18\n4.18\n4.18\n4.18\n4.18\nnan\nnan\nnan\nnan\nnan\nnan\nnan\nnan\nnan\nnan\nnan\nnan\nnan\nnan\nnan\nnan\nnan\nnan\nnan\nnan\nnan\nnan\nnan\nnan\nnan\nnan\nnan\nnan\nnan\nnan\nnan\nnan\nnan\nnan\nnan\nnan\nnan\nnan\nnan\nnan\nnan\nnan\nnan\nnan\nnan\nnan\nnan\nnan\nnan\nnan\nnan\nnan\nnan\nnan\nnan\nnan\nnan\nnan\nnan\nnan\nnan\nnan\nnan\nnan\nnan\nnan\nnan\nnan\nnan\nnan\nnan\nnan\nnan\nnan\nnan\nnan\nnan\nnan\nnan\nnan\nnan\nnan\nnan\nnan\nnan\nnan\nnan\nnan\nnan\nnan\nnan\nnan\nnan\nnan\nnan\nnan\nnan\nnan\nnan\nnan\nnan\nnan\nnan\nnan\nnan\nnan\nnan\nnan\nnan\nnan\nnan\nnan\nnan\nnan\nnan\nnan\nnan\nnan\nnan\nnan\nnan\nnan\nnan\nnan\nnan\nnan\nnan\nnan\nnan\nnan\nnan\nnan\nnan\nnan\nnan\nnan\nnan\nnan\nnan\nnan\nnan\nnan\nnan\nnan\nnan\nnan\nnan\nnan\nnan\nnan\nnan\nnan\nnan\nnan\nnan\nnan\nnan\nnan\nnan\nnan\nnan\nnan\nnan\nnan\nnan\nnan\nnan\nnan\nnan\nnan\nnan\nnan\nnan\nnan\nnan\nnan\nnan\nnan\nnan\nnan\nnan\nnan\nnan\nnan\nnan\nnan\nnan\nnan\nnan\nnan\nnan\nnan\nnan\nnan\nnan\nnan\nnan\nnan\nnan\nnan\nnan\nnan\nnan\nnan\nnan\nnan\nnan\nnan\nnan\nnan\nnan\nnan\nnan\nnan\nnan\nnan\nnan\nnan\nnan\nnan\nnan\nnan\nnan\nnan\nnan\nnan\nnan\nnan\nnan\nnan\nnan\nnan\nnan\nnan\nnan\nnan\nnan\nnan\nnan\nnan\nnan\nnan\nnan\nnan\nnan\nnan\nnan\nnan\nnan\nnan\nnan\nnan\nnan\nnan\nnan\nnan\nnan\nnan\nnan\nnan\nnan\nnan\nnan\nnan\nnan\nnan\nnan\nnan\nnan\nnan\nnan\nnan\nnan\nnan\nnan\nnan\nnan\nnan\nnan\nnan\nnan\nnan\nnan\nnan\nnan\nnan\nnan\nnan\nnan\nnan\nnan\nnan\nnan\nnan\nnan\nnan\nnan\nnan\nnan\nnan\n4.003076923076923\n4.003076923076923\n4.003076923076923\n4.003076923076923\n4.003076923076923\n4.003076923076923\n4.003076923076923\n4.003076923076923\n4.003076923076923\n4.003076923076923\n4.003076923076923\n4.003076923076923\n4.003076923076923\n4.003076923076923\n4.003076923076923\n4.003076923076923\n4.003076923076923\n4.003076923076923\n4.003076923076923\n4.003076923076923\n4.003076923076923\n4.003076923076923\n4.003076923076923\n4.003076923076923\n4.003076923076923\n4.003076923076923\n4.003076923076923\n4.003076923076923\n4.003076923076923\n4.003076923076923\n4.003076923076923\n4.003076923076923\n4.003076923076923\n4.003076923076923\n4.003076923076923\n4.003076923076923\n4.003076923076923\n4.003076923076923\n4.003076923076923\n4.003076923076923\n4.003076923076923\n4.003076923076923\n4.003076923076923\n4.003076923076923\n4.003076923076923\n4.003076923076923\n4.003076923076923\n4.003076923076923\n4.003076923076923\n4.003076923076923\n4.003076923076923\n4.003076923076923\n4.003076923076923\n4.003076923076923\n4.003076923076923\n4.003076923076923\n4.003076923076923\n4.003076923076923\n4.003076923076923\n4.003076923076923\nnan\nnan\nnan\nnan\nnan\nnan\nnan\nnan\nnan\nnan\nnan\nnan\nnan\nnan\nnan\nnan\nnan\nnan\nnan\nnan\nnan\nnan\nnan\nnan\nnan\nnan\nnan\nnan\nnan\nnan\nnan\nnan\nnan\nnan\nnan\nnan\nnan\nnan\nnan\nnan\nnan\nnan\nnan\nnan\nnan\nnan\nnan\nnan\nnan\nnan\nnan\nnan\nnan\nnan\nnan\nnan\nnan\nnan\nnan\nnan\n3.947692307692308\n3.947692307692308\n3.947692307692308\n3.947692307692308\n3.947692307692308\n3.947692307692308\n3.947692307692308\n3.947692307692308\n3.947692307692308\n3.947692307692308\n3.947692307692308\n3.947692307692308\n3.947692307692308\n3.947692307692308\n3.947692307692308\n3.947692307692308\n3.947692307692308\n3.947692307692308\n3.947692307692308\n3.947692307692308\n3.947692307692308\n3.947692307692308\n3.947692307692308\n3.947692307692308\n3.947692307692308\n3.947692307692308\n3.947692307692308\n3.947692307692308\n3.947692307692308\n3.947692307692308\n3.947692307692308\n3.947692307692308\n3.947692307692308\n3.947692307692308\n3.947692307692308\n3.947692307692308\n3.947692307692308\n3.947692307692308\n3.947692307692308\n3.947692307692308\n3.947692307692308\n3.947692307692308\n3.947692307692308\n3.947692307692308\n3.947692307692308\n3.947692307692308\n3.947692307692308\n3.947692307692308\n3.947692307692308\n3.947692307692308\n3.947692307692308\n3.947692307692308\n3.947692307692308\n3.947692307692308\n3.947692307692308\n3.947692307692308\n3.947692307692308\n3.947692307692308\n3.947692307692308\n3.947692307692308\nnan\nnan\nnan\nnan\nnan\nnan\nnan\nnan\nnan\nnan\nnan\nnan\nnan\nnan\nnan\nnan\nnan\nnan\nnan\nnan\nnan\nnan\nnan\nnan\nnan\nnan\nnan\nnan\nnan\nnan\nnan\nnan\nnan\nnan\nnan\nnan\nnan\nnan\nnan\nnan\nnan\nnan\nnan\nnan\nnan\nnan\nnan\nnan\nnan\nnan\nnan\nnan\nnan\nnan\nnan\nnan\nnan\nnan\nnan\nnan\n4.25\n4.25\n4.25\n4.25\n4.25\n4.25\n4.25\n4.25\n4.25\n4.25\n4.25\n4.25\n4.25\n4.25\n4.25\n4.25\n4.25\n4.25\n4.25\n4.25\n4.25\n4.25\n4.25\n4.25\n4.25\n4.25\n4.25\n4.25\n4.25\n4.25\n4.25\n4.25\n4.25\n4.25\n4.25\n4.25\n4.25\n4.25\n4.25\n4.25\n4.25\n4.25\n4.25\n4.25\n4.25\n4.25\n4.25\n4.25\n4.25\n4.25\n4.25\n4.25\n4.25\n4.25\n4.25\n4.25\n4.25\n4.25\n4.25\n4.25\nnan\nnan\nnan\nnan\nnan\nnan\nnan\nnan\nnan\nnan\nnan\nnan\nnan\nnan\nnan\nnan\nnan\nnan\nnan\nnan\nnan\nnan\nnan\nnan\nnan\nnan\nnan\nnan\nnan\nnan\nnan\nnan\nnan\nnan\nnan\nnan\nnan\nnan\nnan\nnan\nnan\nnan\nnan\nnan\nnan\nnan\nnan\nnan\nnan\nnan\nnan\nnan\nnan\nnan\nnan\nnan\nnan\nnan\nnan\nnan\nnan\nnan\nnan\nnan\nnan\nnan\nnan\nnan\nnan\nnan\nnan\nnan\nnan\nnan\nnan\nnan\nnan\nnan\nnan\nnan\nnan\nnan\nnan\nnan\nnan\nnan\nnan\nnan\nnan\nnan\nnan\nnan\nnan\nnan\nnan\nnan\nnan\nnan\nnan\nnan\nnan\nnan\nnan\nnan\nnan\nnan\nnan\nnan\nnan\nnan\nnan\nnan\nnan\nnan\nnan\nnan\nnan\nnan\nnan\nnan\nnan\nnan\nnan\nnan\nnan\nnan\nnan\nnan\nnan\nnan\nnan\nnan\nnan\nnan\nnan\nnan\nnan\nnan\nnan\nnan\nnan\nnan\nnan\nnan\nnan\nnan\nnan\nnan\nnan\nnan\nnan\nnan\nnan\nnan\nnan\nnan\nnan\nnan\nnan\nnan\nnan\nnan\nnan\nnan\nnan\nnan\nnan\nnan\nnan\nnan\nnan\nnan\nnan\nnan\nnan\nnan\nnan\nnan\nnan\nnan\nnan\nnan\nnan\nnan\nnan\nnan\nnan\nnan\nnan\nnan\nnan\nnan\nnan\nnan\nnan\nnan\nnan\nnan\nnan\nnan\nnan\nnan\nnan\nnan\nnan\nnan\nnan\nnan\nnan\nnan\nnan\nnan\nnan\nnan\nnan\nnan\nnan\nnan\nnan\nnan\nnan\nnan\nnan\nnan\nnan\nnan\nnan\nnan\nnan\nnan\nnan\nnan\nnan\nnan\nnan\nnan\nnan\nnan\nnan\nnan\nnan\nnan\nnan\nnan\nnan\nnan\nnan\nnan\nnan\nnan\nnan\nnan\nnan\nnan\nnan\nnan\nnan\nnan\nnan\nnan\nnan\nnan\nnan\nnan\nnan\nnan\nnan\nnan\nnan\nnan\nnan\nnan\nnan\nnan\nnan\nnan\nnan\nnan\nnan\nnan\nnan\nnan\nnan\nnan\nnan\nnan\nnan\nnan\nnan\nnan\nnan\nnan\nnan\nnan\nnan\nnan\nnan\nnan\nnan\nnan\nnan\nnan\nnan\nnan\nnan\nnan\nnan\nnan\nnan\nnan\nnan\nnan\nnan\nnan\nnan\nnan\nnan\nnan\nnan\nnan\nnan\nnan\nnan\nnan\nnan\nnan\nnan\nnan\nnan\nnan\nnan\nnan\nnan\nnan\nnan\nnan\nnan\nnan\nnan\nnan\nnan\nnan\nnan\nnan\nnan\nnan\nnan\nnan\nnan\nnan\nnan\nnan\nnan\nnan\nnan\nnan\nnan\nnan\nnan\nnan\nnan\nnan\nnan\nnan\nnan\nnan\nnan\nnan\nnan\nnan\nnan\nnan\nnan\nnan\nnan\nnan\nnan\nnan\nnan\nnan\nnan\nnan\nnan\nnan\nnan\nnan\nnan\nnan\nnan\nnan\nnan\nnan\nnan\nnan\nnan\nnan\nnan\nnan\nnan\nnan\nnan\nnan\nnan\nnan\nnan\nnan\nnan\nnan\nnan\nnan\nnan\nnan\nnan\nnan\nnan\nnan\nnan\nnan\nnan\nnan\n4.481428571428571\n4.481428571428571\n4.481428571428571\n4.481428571428571\n4.481428571428571\n4.481428571428571\n4.481428571428571\n4.481428571428571\n4.481428571428571\n4.481428571428571\n4.481428571428571\n4.481428571428571\n4.481428571428571\n4.481428571428571\n4.481428571428571\n4.481428571428571\n4.481428571428571\n4.481428571428571\n4.481428571428571\n4.481428571428571\n4.481428571428571\n4.481428571428571\n4.481428571428571\n4.481428571428571\n4.481428571428571\n4.481428571428571\n4.481428571428571\n4.481428571428571\n4.481428571428571\n4.481428571428571\n4.481428571428571\n4.481428571428571\n4.481428571428571\n4.481428571428571\n4.481428571428571\n4.481428571428571\n4.481428571428571\n4.481428571428571\n4.481428571428571\n4.481428571428571\n4.481428571428571\n4.481428571428571\n4.481428571428571\n4.481428571428571\n4.481428571428571\n4.481428571428571\n4.481428571428571\n4.481428571428571\n4.481428571428571\n4.481428571428571\n4.481428571428571\n4.481428571428571\n4.481428571428571\n4.481428571428571\n4.481428571428571\n4.481428571428571\n4.481428571428571\n4.481428571428571\n4.481428571428571\n4.481428571428571\nnan\nnan\nnan\nnan\nnan\nnan\nnan\nnan\nnan\nnan\nnan\nnan\nnan\nnan\nnan\nnan\nnan\nnan\nnan\nnan\nnan\nnan\nnan\nnan\nnan\nnan\nnan\nnan\nnan\nnan\nnan\nnan\nnan\nnan\nnan\nnan\nnan\nnan\nnan\nnan\nnan\nnan\nnan\nnan\nnan\nnan\nnan\nnan\nnan\nnan\nnan\nnan\nnan\nnan\nnan\nnan\nnan\nnan\nnan\nnan\n4.07\n4.07\n4.07\n4.07\n4.07\n4.07\n4.07\n4.07\n4.07\n4.07\n4.07\n4.07\n4.07\n4.07\n4.07\n4.07\n4.07\n4.07\n4.07\n4.07\n4.07\n4.07\n4.07\n4.07\n4.07\n4.07\n4.07\n4.07\n4.07\n4.07\n4.07\n4.07\n4.07\n4.07\n4.07\n4.07\n4.07\n4.07\n4.07\n4.07\n4.07\n4.07\n4.07\n4.07\n4.07\n4.07\n4.07\n4.07\n4.07\n4.07\n4.07\n4.07\n4.07\n4.07\n4.07\n4.07\n4.07\n4.07\n4.07\n4.07\nnan\nnan\nnan\nnan\nnan\nnan\nnan\nnan\nnan\nnan\nnan\nnan\nnan\nnan\nnan\nnan\nnan\nnan\nnan\nnan\nnan\nnan\nnan\nnan\nnan\nnan\nnan\nnan\nnan\nnan\nnan\nnan\nnan\nnan\nnan\nnan\nnan\nnan\nnan\nnan\nnan\nnan\nnan\nnan\nnan\nnan\nnan\nnan\nnan\nnan\nnan\nnan\nnan\nnan\nnan\nnan\nnan\nnan\nnan\nnan\nnan\nnan\nnan\nnan\nnan\nnan\nnan\nnan\nnan\nnan\nnan\nnan\nnan\nnan\nnan\nnan\nnan\nnan\nnan\nnan\nnan\nnan\nnan\nnan\nnan\nnan\nnan\nnan\nnan\nnan\nnan\nnan\nnan\nnan\nnan\nnan\nnan\nnan\nnan\nnan\nnan\nnan\nnan\nnan\nnan\nnan\nnan\nnan\nnan\nnan\nnan\nnan\nnan\nnan\nnan\nnan\nnan\nnan\nnan\nnan\nnan\nnan\nnan\nnan\nnan\nnan\nnan\nnan\nnan\nnan\nnan\nnan\nnan\nnan\nnan\nnan\nnan\nnan\nnan\nnan\nnan\nnan\nnan\nnan\nnan\nnan\nnan\nnan\nnan\nnan\nnan\nnan\nnan\nnan\nnan\nnan\nnan\nnan\nnan\nnan\nnan\nnan\nnan\nnan\nnan\nnan\nnan\nnan\nnan\nnan\nnan\nnan\nnan\nnan\nnan\nnan\nnan\nnan\nnan\nnan\nnan\nnan\nnan\nnan\nnan\nnan\nnan\nnan\nnan\nnan\nnan\nnan\nnan\nnan\nnan\nnan\nnan\nnan\nnan\nnan\nnan\nnan\nnan\nnan\nnan\nnan\nnan\nnan\nnan\nnan\nnan\nnan\nnan\nnan\nnan\nnan\nnan\nnan\nnan\nnan\nnan\nnan\nnan\nnan\nnan\nnan\nnan\nnan\nnan\nnan\nnan\nnan\nnan\nnan\nnan\nnan\nnan\nnan\nnan\nnan\nnan\nnan\nnan\nnan\nnan\nnan\nnan\nnan\nnan\nnan\nnan\nnan\nnan\nnan\nnan\nnan\nnan\nnan\nnan\nnan\nnan\nnan\nnan\nnan\nnan\nnan\nnan\nnan\nnan\nnan\nnan\nnan\nnan\nnan\nnan\nnan\nnan\nnan\nnan\nnan\nnan\nnan\nnan\nnan\nnan\nnan\nnan\nnan\nnan\nnan\nnan\nnan\nnan\nnan\nnan\nnan\nnan\nnan\nnan\nnan\nnan\nnan\nnan\nnan\nnan\nnan\nnan\nnan\nnan\nnan\nnan\nnan\nnan\nnan\nnan\nnan\nnan\nnan\nnan\nnan\nnan\nnan\nnan\nnan\nnan\nnan\nnan\nnan\nnan\nnan\nnan\nnan\nnan\nnan\nnan\nnan\nnan\nnan\nnan\nnan\nnan\nnan\nnan\nnan\nnan\nnan\nnan\nnan\nnan\nnan\nnan\nnan\nnan\nnan\nnan\nnan\nnan\nnan\nnan\nnan\n4.029999999999999\n4.029999999999999\n4.029999999999999\n4.029999999999999\n4.029999999999999\n4.029999999999999\n4.029999999999999\n4.029999999999999\n4.029999999999999\n4.029999999999999\n4.029999999999999\n4.029999999999999\n4.029999999999999\n4.029999999999999\n",
          "name": "stdout"
        },
        {
          "output_type": "stream",
          "text": "4.029999999999999\n4.029999999999999\n4.029999999999999\n4.029999999999999\n4.029999999999999\n4.029999999999999\n4.029999999999999\n4.029999999999999\n4.029999999999999\n4.029999999999999\n4.029999999999999\n4.029999999999999\n4.029999999999999\n4.029999999999999\n4.029999999999999\n4.029999999999999\n4.029999999999999\n4.029999999999999\n4.029999999999999\n4.029999999999999\n4.029999999999999\n4.029999999999999\n4.029999999999999\n4.029999999999999\n4.029999999999999\n4.029999999999999\n4.029999999999999\n4.029999999999999\n4.029999999999999\n4.029999999999999\n4.029999999999999\n4.029999999999999\n4.029999999999999\n4.029999999999999\n4.029999999999999\n4.029999999999999\n4.029999999999999\n4.029999999999999\n4.029999999999999\n4.029999999999999\n4.029999999999999\n4.029999999999999\n4.029999999999999\n4.029999999999999\n4.029999999999999\n4.029999999999999\nnan\nnan\nnan\nnan\nnan\nnan\nnan\nnan\nnan\nnan\nnan\nnan\nnan\nnan\nnan\nnan\nnan\nnan\nnan\nnan\nnan\nnan\nnan\nnan\nnan\nnan\nnan\nnan\nnan\nnan\nnan\nnan\nnan\nnan\nnan\nnan\nnan\nnan\nnan\nnan\nnan\nnan\nnan\nnan\nnan\nnan\nnan\nnan\nnan\nnan\nnan\nnan\nnan\nnan\nnan\nnan\nnan\nnan\nnan\nnan\nnan\nnan\nnan\nnan\nnan\nnan\nnan\nnan\nnan\nnan\nnan\nnan\nnan\nnan\nnan\nnan\nnan\nnan\nnan\nnan\nnan\nnan\nnan\nnan\nnan\nnan\nnan\nnan\nnan\nnan\nnan\nnan\nnan\nnan\nnan\nnan\nnan\nnan\nnan\nnan\nnan\nnan\nnan\nnan\nnan\nnan\nnan\nnan\nnan\nnan\nnan\nnan\nnan\nnan\nnan\nnan\nnan\nnan\nnan\nnan\nnan\nnan\nnan\nnan\nnan\nnan\nnan\nnan\nnan\nnan\nnan\nnan\nnan\nnan\nnan\nnan\nnan\nnan\nnan\nnan\nnan\nnan\nnan\nnan\nnan\nnan\nnan\nnan\nnan\nnan\nnan\nnan\nnan\nnan\nnan\nnan\nnan\nnan\nnan\nnan\nnan\nnan\nnan\nnan\nnan\nnan\nnan\nnan\nnan\nnan\nnan\nnan\nnan\nnan\nnan\nnan\nnan\nnan\nnan\nnan\nnan\nnan\nnan\nnan\nnan\nnan\nnan\nnan\nnan\nnan\nnan\nnan\nnan\nnan\nnan\nnan\nnan\nnan\nnan\nnan\nnan\nnan\nnan\nnan\nnan\nnan\nnan\nnan\nnan\nnan\nnan\nnan\nnan\nnan\nnan\nnan\nnan\nnan\nnan\nnan\nnan\nnan\nnan\nnan\nnan\nnan\nnan\nnan\nnan\nnan\nnan\nnan\nnan\nnan\nnan\nnan\nnan\nnan\nnan\nnan\nnan\nnan\nnan\nnan\nnan\nnan\nnan\nnan\nnan\nnan\nnan\nnan\nnan\nnan\nnan\nnan\nnan\nnan\nnan\nnan\nnan\nnan\nnan\nnan\nnan\nnan\nnan\nnan\nnan\nnan\nnan\nnan\nnan\nnan\nnan\nnan\nnan\nnan\nnan\nnan\nnan\nnan\nnan\nnan\nnan\nnan\nnan\nnan\nnan\nnan\nnan\nnan\nnan\nnan\nnan\nnan\nnan\nnan\nnan\nnan\nnan\nnan\nnan\nnan\nnan\nnan\nnan\nnan\nnan\nnan\nnan\nnan\nnan\nnan\nnan\nnan\nnan\nnan\nnan\nnan\nnan\nnan\nnan\nnan\nnan\nnan\nnan\nnan\nnan\nnan\nnan\nnan\nnan\nnan\nnan\nnan\nnan\nnan\nnan\nnan\nnan\nnan\nnan\nnan\nnan\nnan\nnan\nnan\nnan\nnan\nnan\nnan\nnan\nnan\nnan\nnan\nnan\nnan\nnan\nnan\nnan\nnan\nnan\nnan\nnan\nnan\nnan\nnan\nnan\nnan\nnan\nnan\nnan\nnan\nnan\nnan\nnan\nnan\nnan\nnan\nnan\nnan\nnan\nnan\nnan\nnan\nnan\nnan\nnan\nnan\nnan\nnan\nnan\nnan\nnan\nnan\nnan\nnan\nnan\nnan\nnan\nnan\nnan\nnan\nnan\nnan\nnan\nnan\nnan\nnan\nnan\nnan\nnan\nnan\nnan\nnan\nnan\nnan\nnan\nnan\nnan\nnan\nnan\nnan\nnan\nnan\nnan\nnan\nnan\nnan\nnan\nnan\nnan\nnan\nnan\nnan\nnan\nnan\nnan\nnan\nnan\nnan\nnan\nnan\nnan\nnan\nnan\nnan\nnan\nnan\nnan\nnan\nnan\nnan\nnan\nnan\nnan\nnan\nnan\nnan\nnan\nnan\nnan\nnan\nnan\nnan\nnan\nnan\nnan\nnan\nnan\nnan\nnan\nnan\nnan\nnan\nnan\nnan\nnan\nnan\nnan\nnan\nnan\nnan\nnan\nnan\nnan\nnan\nnan\nnan\nnan\nnan\nnan\nnan\nnan\nnan\nnan\nnan\nnan\nnan\nnan\nnan\nnan\nnan\nnan\nnan\nnan\nnan\nnan\nnan\nnan\nnan\nnan\nnan\nnan\nnan\nnan\nnan\nnan\nnan\nnan\nnan\nnan\nnan\nnan\nnan\nnan\nnan\nnan\nnan\nnan\nnan\nnan\nnan\nnan\nnan\nnan\nnan\nnan\nnan\nnan\nnan\nnan\nnan\nnan\nnan\nnan\nnan\nnan\nnan\nnan\nnan\nnan\nnan\nnan\nnan\nnan\nnan\nnan\nnan\nnan\nnan\nnan\nnan\nnan\nnan\nnan\nnan\nnan\nnan\nnan\nnan\nnan\nnan\nnan\nnan\nnan\nnan\nnan\nnan\nnan\nnan\nnan\nnan\nnan\nnan\nnan\nnan\nnan\nnan\nnan\nnan\nnan\nnan\nnan\nnan\nnan\nnan\nnan\nnan\nnan\nnan\nnan\nnan\nnan\nnan\nnan\nnan\nnan\nnan\nnan\nnan\nnan\nnan\nnan\nnan\nnan\nnan\nnan\nnan\nnan\nnan\nnan\nnan\nnan\nnan\nnan\nnan\nnan\nnan\nnan\nnan\nnan\nnan\nnan\nnan\nnan\nnan\nnan\nnan\nnan\nnan\nnan\nnan\nnan\nnan\nnan\nnan\nnan\nnan\nnan\nnan\nnan\nnan\nnan\nnan\nnan\nnan\nnan\nnan\nnan\nnan\nnan\nnan\nnan\nnan\nnan\nnan\nnan\nnan\nnan\nnan\nnan\nnan\nnan\nnan\nnan\nnan\nnan\nnan\nnan\nnan\nnan\nnan\nnan\nnan\nnan\nnan\nnan\nnan\nnan\nnan\nnan\nnan\nnan\nnan\nnan\nnan\nnan\nnan\nnan\nnan\nnan\nnan\nnan\nnan\nnan\nnan\nnan\nnan\nnan\nnan\nnan\nnan\nnan\nnan\nnan\nnan\nnan\nnan\nnan\nnan\nnan\nnan\nnan\nnan\nnan\nnan\nnan\nnan\nnan\nnan\nnan\nnan\nnan\nnan\nnan\nnan\nnan\nnan\nnan\nnan\nnan\nnan\nnan\nnan\nnan\nnan\nnan\nnan\nnan\nnan\nnan\nnan\nnan\nnan\nnan\nnan\nnan\nnan\nnan\nnan\nnan\nnan\nnan\nnan\nnan\nnan\nnan\nnan\nnan\nnan\nnan\nnan\nnan\nnan\nnan\nnan\nnan\nnan\n4.1433333333333335\n4.1433333333333335\n4.1433333333333335\n4.1433333333333335\n4.1433333333333335\n4.1433333333333335\n4.1433333333333335\n4.1433333333333335\n4.1433333333333335\n4.1433333333333335\n4.1433333333333335\n4.1433333333333335\n4.1433333333333335\n4.1433333333333335\n4.1433333333333335\n4.1433333333333335\n4.1433333333333335\n4.1433333333333335\n4.1433333333333335\n4.1433333333333335\n4.1433333333333335\n4.1433333333333335\n4.1433333333333335\n4.1433333333333335\n4.1433333333333335\n4.1433333333333335\n4.1433333333333335\n4.1433333333333335\n4.1433333333333335\n4.1433333333333335\n4.1433333333333335\n4.1433333333333335\n4.1433333333333335\n4.1433333333333335\n4.1433333333333335\n4.1433333333333335\n4.1433333333333335\n4.1433333333333335\n4.1433333333333335\n4.1433333333333335\n4.1433333333333335\n4.1433333333333335\n4.1433333333333335\n4.1433333333333335\n4.1433333333333335\n4.1433333333333335\n4.1433333333333335\n4.1433333333333335\n4.1433333333333335\n4.1433333333333335\n4.1433333333333335\n4.1433333333333335\n4.1433333333333335\n4.1433333333333335\n4.1433333333333335\n4.1433333333333335\n4.1433333333333335\n4.1433333333333335\n4.1433333333333335\n4.1433333333333335\nnan\nnan\nnan\nnan\nnan\nnan\nnan\nnan\nnan\nnan\nnan\nnan\nnan\nnan\nnan\nnan\nnan\nnan\nnan\nnan\nnan\nnan\nnan\nnan\nnan\nnan\nnan\nnan\nnan\nnan\nnan\nnan\nnan\nnan\nnan\nnan\nnan\nnan\nnan\nnan\nnan\nnan\nnan\nnan\nnan\nnan\nnan\nnan\nnan\nnan\nnan\nnan\nnan\nnan\nnan\nnan\nnan\nnan\nnan\nnan\nnan\nnan\nnan\nnan\nnan\nnan\nnan\nnan\nnan\nnan\nnan\nnan\nnan\nnan\nnan\nnan\nnan\nnan\nnan\nnan\nnan\nnan\nnan\nnan\nnan\nnan\nnan\nnan\nnan\nnan\nnan\nnan\nnan\nnan\nnan\nnan\nnan\nnan\nnan\nnan\nnan\nnan\nnan\nnan\nnan\nnan\nnan\nnan\nnan\nnan\nnan\nnan\nnan\nnan\nnan\nnan\nnan\nnan\nnan\nnan\nnan\nnan\nnan\nnan\nnan\nnan\nnan\nnan\nnan\nnan\nnan\nnan\nnan\nnan\nnan\nnan\nnan\nnan\nnan\nnan\nnan\nnan\nnan\nnan\nnan\nnan\nnan\nnan\nnan\nnan\nnan\nnan\nnan\nnan\nnan\nnan\nnan\nnan\nnan\nnan\nnan\nnan\nnan\nnan\nnan\nnan\nnan\nnan\nnan\nnan\nnan\nnan\nnan\nnan\nnan\nnan\nnan\nnan\nnan\nnan\nnan\nnan\nnan\nnan\nnan\nnan\nnan\nnan\nnan\nnan\nnan\nnan\nnan\nnan\nnan\nnan\nnan\nnan\nnan\nnan\nnan\nnan\nnan\nnan\nnan\nnan\nnan\nnan\nnan\nnan\nnan\nnan\nnan\nnan\nnan\nnan\nnan\nnan\nnan\nnan\nnan\nnan\nnan\nnan\nnan\nnan\nnan\nnan\nnan\nnan\nnan\nnan\nnan\nnan\nnan\nnan\nnan\nnan\nnan\nnan\nnan\nnan\nnan\nnan\nnan\nnan\nnan\nnan\nnan\nnan\nnan\nnan\nnan\nnan\nnan\nnan\nnan\nnan\nnan\nnan\nnan\nnan\nnan\nnan\nnan\nnan\nnan\nnan\nnan\nnan\nnan\nnan\nnan\nnan\nnan\nnan\nnan\nnan\nnan\nnan\nnan\nnan\nnan\nnan\nnan\nnan\nnan\nnan\nnan\nnan\nnan\nnan\nnan\nnan\nnan\nnan\nnan\nnan\nnan\nnan\nnan\nnan\nnan\nnan\nnan\nnan\nnan\nnan\nnan\nnan\nnan\nnan\nnan\nnan\nnan\nnan\nnan\nnan\nnan\nnan\nnan\nnan\nnan\nnan\nnan\nnan\nnan\nnan\nnan\nnan\nnan\nnan\nnan\nnan\nnan\nnan\nnan\nnan\nnan\nnan\nnan\nnan\nnan\nnan\nnan\nnan\nnan\nnan\nnan\nnan\nnan\nnan\nnan\nnan\nnan\nnan\nnan\nnan\nnan\nnan\n3.8899999999999997\n3.8899999999999997\n3.8899999999999997\n3.8899999999999997\n3.8899999999999997\n3.8899999999999997\nnan\nnan\nnan\nnan\nnan\nnan\n4.536119402985074\n4.536119402985074\n4.536119402985074\n4.536119402985074\n4.536119402985074\n4.536119402985074\n4.216893203883495\n4.216893203883495\n4.216893203883495\n4.216893203883495\n4.216893203883495\n4.216893203883495\nnan\nnan\nnan\nnan\nnan\nnan\nnan\nnan\nnan\nnan\nnan\nnan\n4.517931034482759\n4.517931034482759\n4.517931034482759\n4.517931034482759\nnan\nnan\nnan\nnan\nnan\nnan\nnan\nnan\nnan\nnan\nnan\nnan\nnan\nnan\nnan\nnan\nnan\nnan\nnan\nnan\nnan\nnan\nnan\nnan\nnan\nnan\nnan\nnan\nnan\nnan\nnan\nnan\nnan\nnan\nnan\nnan\nnan\nnan\nnan\nnan\nnan\nnan\nnan\nnan\nnan\nnan\nnan\nnan\nnan\nnan\nnan\nnan\nnan\nnan\nnan\nnan\nnan\nnan\nnan\nnan\nnan\nnan\nnan\nnan\nnan\nnan\nnan\nnan\nnan\nnan\nnan\nnan\nnan\nnan\nnan\nnan\nnan\nnan\nnan\nnan\nnan\nnan\nnan\nnan\nnan\nnan\nnan\nnan\nnan\nnan\nnan\nnan\nnan\nnan\nnan\nnan\nnan\nnan\nnan\nnan\nnan\nnan\nnan\nnan\nnan\nnan\nnan\nnan\nnan\nnan\nnan\nnan\nnan\nnan\nnan\nnan\nnan\nnan\nnan\nnan\nnan\nnan\nnan\nnan\nnan\nnan\nnan\nnan\nnan\nnan\nnan\nnan\nnan\nnan\nnan\nnan\nnan\nnan\nnan\nnan\nnan\nnan\nnan\nnan\nnan\nnan\nnan\nnan\nnan\nnan\nnan\nnan\nnan\nnan\nnan\nnan\n3.9966666666666666\n3.9966666666666666\n3.9966666666666666\n3.9966666666666666\n3.9966666666666666\n3.9966666666666666\n3.9966666666666666\n3.9966666666666666\n3.9966666666666666\n3.9966666666666666\n3.9966666666666666\n3.9966666666666666\n3.9966666666666666\n3.9966666666666666\n3.9966666666666666\n3.9966666666666666\nnan\nnan\nnan\nnan\nnan\nnan\nnan\nnan\nnan\nnan\nnan\nnan\nnan\nnan\nnan\nnan\nnan\nnan\nnan\nnan\nnan\nnan\nnan\nnan\nnan\nnan\nnan\nnan\nnan\nnan\nnan\nnan\n4.0\n4.0\n4.0\n4.0\n4.0\n4.0\n4.0\n4.0\n4.0\n4.0\n4.0\n4.0\n4.0\n4.0\n4.0\n4.0\n4.395555555555555\n4.395555555555555\n4.395555555555555\n4.395555555555555\n4.395555555555555\n4.395555555555555\n4.395555555555555\n4.395555555555555\n4.395555555555555\n4.395555555555555\n4.395555555555555\n4.395555555555555\n4.395555555555555\n4.395555555555555\n4.395555555555555\n4.395555555555555\nnan\nnan\nnan\nnan\nnan\nnan\nnan\nnan\nnan\nnan\nnan\nnan\nnan\nnan\nnan\nnan\nnan\nnan\nnan\nnan\nnan\nnan\nnan\nnan\nnan\nnan\nnan\nnan\nnan\nnan\nnan\nnan\nnan\nnan\nnan\nnan\nnan\nnan\nnan\nnan\nnan\nnan\nnan\nnan\nnan\nnan\nnan\nnan\nnan\nnan\nnan\nnan\nnan\nnan\nnan\nnan\nnan\nnan\nnan\n4.520909090909091\n4.520909090909091\n4.520909090909091\n4.520909090909091\n4.520909090909091\n4.520909090909091\n4.520909090909091\n4.520909090909091\n4.520909090909091\nnan\nnan\nnan\nnan\nnan\nnan\nnan\nnan\nnan\nnan\nnan\nnan\nnan\nnan\nnan\nnan\nnan\nnan\n4.564137931034483\n4.564137931034483\n4.564137931034483\n4.564137931034483\n4.564137931034483\n4.564137931034483\n4.564137931034483\n4.564137931034483\n4.564137931034483\nnan\nnan\nnan\nnan\nnan\nnan\nnan\nnan\nnan\nnan\nnan\nnan\nnan\nnan\nnan\nnan\nnan\nnan\n4.27\n4.27\n4.27\n4.27\nnan\nnan\nnan\nnan\nnan\nnan\nnan\nnan\nnan\nnan\nnan\nnan\n3.9733333333333336\n3.9733333333333336\n3.9733333333333336\nnan\nnan\nnan\nnan\nnan\nnan\nnan\nnan\nnan\nnan\nnan\nnan\nnan\nnan\nnan\nnan\n4.79\n4.79\n4.79\n4.79\n4.79\n4.302857142857143\n4.302857142857143\n4.302857142857143\n4.302857142857143\n4.302857142857143\n4.6\n4.6\n4.6\n4.6\n4.6\n4.321818181818182\n4.321818181818182\n4.321818181818182\nnan\nnan\nnan\nnan\nnan\nnan\nnan\nnan\nnan\nnan\nnan\nnan\nnan\nnan\nnan\nnan\nnan\nnan\nnan\nnan\nnan\nnan\nnan\nnan\nnan\nnan\nnan\nnan\nnan\nnan\nnan\nnan\nnan\nnan\nnan\nnan\nnan\nnan\nnan\nnan\nnan\nnan\nnan\nnan\nnan\nnan\nnan\nnan\nnan\nnan\nnan\nnan\nnan\nnan\nnan\nnan\nnan\nnan\nnan\nnan\nnan\nnan\nnan\nnan\nnan\nnan\nnan\nnan\nnan\nnan\nnan\nnan\nnan\nnan\nnan\nnan\nnan\nnan\nnan\nnan\n",
          "name": "stdout"
        },
        {
          "output_type": "stream",
          "text": "nan\nnan\nnan\nnan\nnan\nnan\nnan\nnan\nnan\nnan\nnan\nnan\nnan\nnan\nnan\nnan\nnan\nnan\nnan\nnan\nnan\nnan\nnan\nnan\nnan\nnan\nnan\nnan\nnan\nnan\nnan\nnan\nnan\nnan\nnan\nnan\nnan\nnan\nnan\nnan\nnan\nnan\nnan\nnan\nnan\nnan\nnan\nnan\nnan\nnan\nnan\nnan\nnan\nnan\nnan\nnan\nnan\nnan\nnan\nnan\nnan\nnan\nnan\nnan\nnan\nnan\nnan\nnan\nnan\nnan\nnan\nnan\nnan\nnan\nnan\nnan\nnan\nnan\nnan\nnan\nnan\nnan\nnan\nnan\nnan\nnan\nnan\nnan\nnan\nnan\nnan\nnan\nnan\nnan\nnan\nnan\nnan\nnan\n4.19\n4.19\n4.19\n4.19\n4.19\n4.19\n4.19\n4.19\n4.19\n4.19\n4.19\n4.19\n4.19\n4.19\n3.90625\n3.90625\n3.90625\n3.90625\n3.90625\n3.90625\n3.90625\n3.90625\n3.90625\n3.90625\n3.90625\n3.90625\n3.90625\n3.90625\n4.111969696969697\nnan\nnan\nnan\nnan\nnan\nnan\nnan\nnan\nnan\nnan\nnan\nnan\nnan\nnan\nnan\nnan\nnan\nnan\nnan\nnan\n3.8000000000000003\n3.8000000000000003\n3.8000000000000003\n3.8000000000000003\n3.8000000000000003\n3.8000000000000003\n3.8000000000000003\n3.8000000000000003\n3.8000000000000003\n3.8000000000000003\nnan\nnan\nnan\nnan\nnan\nnan\nnan\nnan\nnan\nnan\n4.186470588235294\n4.186470588235294\n4.186470588235294\n4.186470588235294\n4.186470588235294\n4.186470588235294\n4.186470588235294\n4.186470588235294\n4.186470588235294\n4.186470588235294\nnan\nnan\nnan\nnan\nnan\nnan\nnan\nnan\nnan\nnan\nnan\nnan\nnan\nnan\nnan\nnan\nnan\nnan\nnan\nnan\n4.342499999999999\n4.342499999999999\n4.342499999999999\n4.342499999999999\n4.342499999999999\n4.342499999999999\n4.342499999999999\n4.342499999999999\n4.342499999999999\n4.342499999999999\nnan\nnan\nnan\nnan\nnan\nnan\nnan\nnan\nnan\nnan\nnan\nnan\nnan\nnan\nnan\nnan\nnan\nnan\nnan\nnan\n4.915922330097088\n4.915922330097088\nnan\nnan\nnan\nnan\nnan\nnan\nnan\nnan\nnan\nnan\nnan\nnan\nnan\nnan\nnan\nnan\nnan\nnan\nnan\nnan\nnan\nnan\nnan\nnan\nnan\nnan\nnan\nnan\nnan\n3.95\n3.95\n3.95\n3.95\n3.95\n3.95\n3.95\n3.95\n3.95\nnan\nnan\nnan\nnan\nnan\nnan\nnan\nnan\nnan\nnan\nnan\nnan\nnan\nnan\nnan\nnan\nnan\nnan\nnan\nnan\nnan\nnan\nnan\nnan\nnan\nnan\nnan\nnan\nnan\nnan\nnan\nnan\nnan\nnan\nnan\nnan\nnan\nnan\nnan\nnan\nnan\nnan\nnan\nnan\nnan\n4.385714285714285\n4.385714285714285\n4.385714285714285\n4.385714285714285\n4.385714285714285\n4.385714285714285\n4.385714285714285\n4.385714285714285\n4.385714285714285\n4.385714285714285\n4.385714285714285\n4.385714285714285\n4.385714285714285\n4.385714285714285\n4.385714285714285\n4.385714285714285\n4.385714285714285\n4.385714285714285\n4.385714285714285\n4.385714285714285\n4.731030927835052\n4.731030927835052\n4.731030927835052\n4.731030927835052\n4.731030927835052\n4.731030927835052\n4.731030927835052\n4.731030927835052\n4.731030927835052\n4.731030927835052\n4.731030927835052\n4.731030927835052\n4.731030927835052\n4.731030927835052\n4.731030927835052\n4.731030927835052\n4.731030927835052\n4.731030927835052\n4.731030927835052\n4.731030927835052\nnan\nnan\nnan\nnan\nnan\nnan\nnan\nnan\nnan\nnan\nnan\nnan\nnan\nnan\nnan\nnan\nnan\nnan\nnan\nnan\nnan\nnan\nnan\nnan\nnan\nnan\nnan\nnan\nnan\nnan\nnan\nnan\nnan\nnan\nnan\nnan\nnan\nnan\nnan\nnan\n4.482413793103448\n4.482413793103448\n4.482413793103448\n4.482413793103448\n4.482413793103448\n4.482413793103448\n4.482413793103448\n4.482413793103448\n4.482413793103448\n4.482413793103448\n4.482413793103448\n4.482413793103448\n4.482413793103448\n4.482413793103448\n4.482413793103448\n4.482413793103448\n4.482413793103448\n4.482413793103448\n4.482413793103448\n4.482413793103448\nnan\nnan\nnan\nnan\nnan\nnan\nnan\nnan\nnan\nnan\nnan\nnan\nnan\nnan\nnan\nnan\nnan\nnan\nnan\nnan\nnan\nnan\nnan\nnan\nnan\nnan\nnan\nnan\nnan\nnan\nnan\nnan\nnan\nnan\nnan\nnan\nnan\nnan\nnan\nnan\nnan\nnan\nnan\nnan\nnan\nnan\nnan\nnan\nnan\nnan\nnan\nnan\nnan\nnan\nnan\nnan\nnan\nnan\nnan\nnan\nnan\nnan\nnan\nnan\nnan\nnan\nnan\nnan\nnan\nnan\nnan\nnan\nnan\nnan\nnan\nnan\nnan\nnan\nnan\nnan\n3.8266666666666667\n3.8266666666666667\n3.8266666666666667\n3.8266666666666667\n3.8266666666666667\n3.8266666666666667\n3.8266666666666667\n3.8266666666666667\n3.8266666666666667\n3.8266666666666667\n3.8266666666666667\n3.8266666666666667\n3.8266666666666667\n3.8266666666666667\n3.8266666666666667\n3.8266666666666667\n3.8266666666666667\n3.8266666666666667\n3.8266666666666667\n3.8266666666666667\n3.9855555555555555\n3.9855555555555555\n3.9855555555555555\n3.9855555555555555\n3.9855555555555555\n3.9855555555555555\n3.9855555555555555\n3.9855555555555555\n3.9855555555555555\n3.9855555555555555\n3.9855555555555555\n3.9855555555555555\n3.9855555555555555\n3.9855555555555555\n3.9855555555555555\n3.9855555555555555\n3.9855555555555555\n3.9855555555555555\n3.9855555555555555\n3.9855555555555555\nnan\nnan\nnan\nnan\nnan\nnan\nnan\nnan\nnan\nnan\nnan\nnan\nnan\nnan\nnan\nnan\nnan\nnan\nnan\nnan\n3.8266666666666667\n3.8266666666666667\n3.8266666666666667\n3.8266666666666667\n3.8266666666666667\n3.8266666666666667\n3.8266666666666667\n3.8266666666666667\n3.8266666666666667\n3.8266666666666667\n3.8266666666666667\n3.8266666666666667\n3.8266666666666667\n3.8266666666666667\n3.8266666666666667\n3.8266666666666667\n3.8266666666666667\n3.8266666666666667\n3.8266666666666667\n3.8266666666666667\n4.609696969696969\n4.609696969696969\n4.609696969696969\n4.609696969696969\n4.609696969696969\n4.609696969696969\n4.609696969696969\n4.609696969696969\n4.609696969696969\n4.609696969696969\n4.609696969696969\n4.609696969696969\n4.609696969696969\n4.609696969696969\n4.609696969696969\n4.609696969696969\n4.609696969696969\n4.609696969696969\n4.609696969696969\n4.609696969696969\nnan\nnan\nnan\nnan\nnan\nnan\nnan\nnan\nnan\nnan\nnan\nnan\nnan\nnan\nnan\nnan\nnan\nnan\nnan\nnan\nnan\nnan\nnan\nnan\nnan\nnan\nnan\nnan\nnan\nnan\nnan\nnan\nnan\nnan\nnan\nnan\nnan\nnan\nnan\nnan\n4.896842105263158\n4.896842105263158\n4.896842105263158\n4.896842105263158\n4.896842105263158\n4.896842105263158\n4.896842105263158\n4.896842105263158\n4.896842105263158\n4.896842105263158\n4.896842105263158\n4.896842105263158\n4.896842105263158\n4.896842105263158\n4.896842105263158\n4.896842105263158\n4.896842105263158\n4.896842105263158\n4.896842105263158\n4.896842105263158\n4.02\n4.02\n4.02\n4.02\n4.02\n4.02\n4.02\n4.02\n4.02\n4.02\n4.02\n4.02\n4.02\n4.02\n4.02\n4.02\n4.02\n4.02\n4.02\n4.02\nnan\nnan\nnan\nnan\nnan\nnan\nnan\nnan\nnan\nnan\nnan\nnan\nnan\nnan\nnan\nnan\nnan\nnan\nnan\nnan\n3.8166666666666664\n3.8166666666666664\n3.8166666666666664\n3.8166666666666664\n3.8166666666666664\n3.8166666666666664\n3.8166666666666664\n3.8166666666666664\n3.8166666666666664\n3.8166666666666664\n3.8166666666666664\n3.8166666666666664\n3.8166666666666664\n3.8166666666666664\n3.8166666666666664\n3.8166666666666664\n3.8166666666666664\n3.8166666666666664\n3.8166666666666664\n3.8166666666666664\nnan\nnan\nnan\nnan\nnan\nnan\nnan\nnan\nnan\nnan\nnan\nnan\n3.9416666666666664\n3.9416666666666664\n3.9416666666666664\n3.9416666666666664\n3.9416666666666664\n3.9416666666666664\n3.9416666666666664\n3.9416666666666664\n3.9416666666666664\n3.9416666666666664\n3.9416666666666664\n3.9416666666666664\nnan\nnan\nnan\nnan\nnan\nnan\nnan\nnan\nnan\nnan\nnan\nnan\n4.017916666666666\n4.017916666666666\n4.017916666666666\n4.017916666666666\n4.017916666666666\n4.017916666666666\n4.017916666666666\n4.017916666666666\n4.017916666666666\n4.017916666666666\n4.017916666666666\n4.017916666666666\nnan\nnan\nnan\nnan\nnan\nnan\nnan\nnan\nnan\nnan\nnan\nnan\nnan\nnan\nnan\nnan\nnan\nnan\nnan\nnan\nnan\nnan\nnan\nnan\n4.569024390243903\n4.569024390243903\n4.569024390243903\n4.569024390243903\n4.569024390243903\n4.569024390243903\n4.569024390243903\n4.569024390243903\n4.569024390243903\n4.569024390243903\n4.569024390243903\n4.569024390243903\nnan\nnan\nnan\nnan\nnan\nnan\nnan\nnan\nnan\nnan\nnan\nnan\nnan\nnan\nnan\nnan\nnan\nnan\nnan\nnan\nnan\nnan\nnan\nnan\nnan\nnan\nnan\nnan\nnan\nnan\nnan\nnan\nnan\nnan\nnan\nnan\nnan\nnan\nnan\nnan\nnan\nnan\nnan\nnan\nnan\nnan\nnan\nnan\nnan\nnan\nnan\nnan\nnan\nnan\nnan\nnan\nnan\nnan\nnan\nnan\nnan\nnan\nnan\nnan\nnan\nnan\nnan\nnan\nnan\n3.94\n3.94\n3.94\n3.94\n3.94\n3.94\n3.94\n3.94\nnan\nnan\nnan\nnan\nnan\nnan\nnan\nnan\nnan\nnan\nnan\nnan\nnan\nnan\nnan\nnan\n4.21\n4.21\n4.21\n4.21\n4.21\n4.21\n4.21\n4.21\n4.329189189189189\n4.329189189189189\n4.329189189189189\n4.329189189189189\n4.329189189189189\n4.329189189189189\n4.329189189189189\n4.329189189189189\nnan\nnan\nnan\nnan\nnan\nnan\nnan\nnan\n3.885\n3.885\n3.885\n3.885\n3.885\n3.885\n3.885\n3.885\nnan\nnan\nnan\nnan\nnan\nnan\nnan\nnan\nnan\nnan\nnan\nnan\nnan\nnan\nnan\nnan\nnan\nnan\nnan\nnan\nnan\nnan\nnan\nnan\nnan\nnan\nnan\nnan\nnan\nnan\nnan\nnan\nnan\nnan\nnan\nnan\nnan\nnan\nnan\nnan\nnan\nnan\nnan\nnan\nnan\nnan\nnan\nnan\nnan\nnan\n3.825\n3.825\n3.825\n3.825\n3.825\n3.825\n3.825\n3.825\n3.825\n3.825\nnan\nnan\nnan\nnan\nnan\nnan\nnan\nnan\nnan\nnan\nnan\nnan\nnan\nnan\nnan\nnan\nnan\nnan\nnan\nnan\nnan\nnan\nnan\nnan\nnan\nnan\nnan\nnan\nnan\nnan\nnan\nnan\nnan\nnan\nnan\nnan\nnan\nnan\nnan\nnan\nnan\nnan\nnan\nnan\nnan\nnan\nnan\nnan\nnan\nnan\nnan\nnan\nnan\nnan\nnan\nnan\nnan\nnan\nnan\nnan\nnan\nnan\nnan\nnan\nnan\nnan\nnan\nnan\nnan\nnan\nnan\nnan\nnan\nnan\nnan\nnan\nnan\nnan\nnan\nnan\nnan\n4.754615384615384\nnan\nnan\nnan\nnan\nnan\nnan\nnan\nnan\nnan\nnan\nnan\nnan\nnan\nnan\nnan\nnan\nnan\nnan\nnan\n4.026666666666666\n4.026666666666666\n4.026666666666666\n4.026666666666666\n4.026666666666666\n4.026666666666666\n4.026666666666666\n4.026666666666666\n4.026666666666666\n4.026666666666666\n4.026666666666666\n4.026666666666666\n4.026666666666666\n4.026666666666666\n4.026666666666666\n4.026666666666666\n4.026666666666666\n4.026666666666666\n4.026666666666666\nnan\nnan\nnan\nnan\nnan\nnan\nnan\nnan\nnan\nnan\nnan\nnan\nnan\nnan\nnan\nnan\nnan\nnan\nnan\n3.931904761904762\n3.931904761904762\n3.931904761904762\n3.931904761904762\n3.931904761904762\n3.931904761904762\n3.931904761904762\n3.931904761904762\n3.931904761904762\n3.931904761904762\n3.931904761904762\n3.931904761904762\n3.931904761904762\n3.931904761904762\n3.931904761904762\n3.931904761904762\n3.931904761904762\n3.931904761904762\n3.931904761904762\nnan\nnan\nnan\nnan\nnan\nnan\nnan\nnan\nnan\nnan\nnan\nnan\nnan\nnan\nnan\nnan\nnan\nnan\nnan\n4.29\n4.29\n4.29\n4.29\n4.29\n4.29\n4.29\n4.29\n4.29\n4.29\n4.29\n4.29\n4.29\n4.29\n4.29\n4.29\n4.29\n4.29\n4.29\n3.3570588235294117\n3.3570588235294117\n3.3570588235294117\n3.3570588235294117\n3.3570588235294117\n3.3570588235294117\n3.3570588235294117\n3.3570588235294117\n3.3570588235294117\n3.3570588235294117\n3.3570588235294117\n3.3570588235294117\n3.3570588235294117\n3.3570588235294117\n3.3570588235294117\n3.3570588235294117\n3.3570588235294117\n3.3570588235294117\n3.3570588235294117\n4.408447797967354\n4.408447797967354\n4.408447797967354\n4.408447797967354\n4.408447797967354\n4.408447797967354\n4.408447797967354\n4.408447797967354\n4.408447797967354\n4.408447797967354\n4.408447797967354\n4.408447797967354\n4.408447797967354\n4.408447797967354\n4.408447797967354\n4.408447797967354\n4.408447797967354\n4.408447797967354\n4.408447797967354\nnan\nnan\nnan\nnan\nnan\nnan\nnan\nnan\nnan\nnan\nnan\nnan\nnan\nnan\nnan\nnan\nnan\nnan\nnan\n4.376470588235295\n4.376470588235295\n4.376470588235295\n4.376470588235295\n4.376470588235295\n4.376470588235295\n4.376470588235295\n4.376470588235295\n4.376470588235295\n4.376470588235295\n4.376470588235295\n4.376470588235295\n4.376470588235295\n4.376470588235295\n4.376470588235295\n4.376470588235295\n4.376470588235295\n4.376470588235295\n4.376470588235295\nnan\nnan\nnan\n",
          "name": "stdout"
        },
        {
          "output_type": "stream",
          "text": "nan\nnan\nnan\nnan\nnan\nnan\nnan\nnan\nnan\nnan\nnan\nnan\nnan\nnan\nnan\nnan\n3.9257142857142857\n3.9257142857142857\n3.9257142857142857\n3.9257142857142857\n3.9257142857142857\n3.9257142857142857\n3.9257142857142857\n3.9257142857142857\n3.9257142857142857\n3.9257142857142857\n3.9257142857142857\n3.9257142857142857\n3.9257142857142857\n3.9257142857142857\n3.9257142857142857\n3.9257142857142857\n3.9257142857142857\n3.9257142857142857\n3.9257142857142857\n7.319999999999999\n7.319999999999999\n7.319999999999999\n7.319999999999999\n7.319999999999999\n7.319999999999999\n7.319999999999999\n7.319999999999999\n7.319999999999999\n7.319999999999999\n7.319999999999999\n7.319999999999999\n7.319999999999999\n7.319999999999999\n7.319999999999999\n7.319999999999999\n7.319999999999999\n7.319999999999999\n7.319999999999999\nnan\nnan\nnan\nnan\nnan\nnan\nnan\nnan\nnan\nnan\nnan\nnan\nnan\nnan\nnan\nnan\nnan\nnan\nnan\nnan\nnan\nnan\nnan\nnan\nnan\nnan\nnan\nnan\nnan\nnan\nnan\nnan\nnan\nnan\nnan\nnan\nnan\nnan\n4.356521739130435\n4.356521739130435\n4.356521739130435\n4.356521739130435\n4.356521739130435\n4.356521739130435\n4.356521739130435\n4.356521739130435\n4.356521739130435\n4.356521739130435\n4.356521739130435\n4.356521739130435\n4.356521739130435\n4.356521739130435\n4.356521739130435\n4.356521739130435\n4.356521739130435\n4.356521739130435\n4.356521739130435\nnan\nnan\nnan\nnan\nnan\nnan\nnan\nnan\nnan\nnan\nnan\nnan\nnan\nnan\nnan\nnan\nnan\nnan\nnan\n4.0225\n4.0225\n4.0225\n4.0225\n4.0225\n4.0225\n4.0225\n4.0225\n4.0225\n4.0225\n4.0225\n4.0225\n4.0225\n4.0225\n4.0225\n4.0225\n4.0225\n4.0225\n4.0225\nnan\nnan\nnan\nnan\nnan\nnan\nnan\nnan\nnan\nnan\nnan\nnan\nnan\nnan\nnan\nnan\nnan\nnan\nnan\nnan\nnan\nnan\nnan\nnan\nnan\nnan\nnan\nnan\nnan\nnan\nnan\n4.53875\n4.53875\n4.53875\n4.53875\n4.53875\n4.53875\nnan\nnan\nnan\nnan\nnan\nnan\nnan\nnan\nnan\nnan\nnan\nnan\n3.9157142857142855\n3.9157142857142855\n3.9157142857142855\n3.9157142857142855\n3.9157142857142855\n3.9157142857142855\n4.392222222222222\n4.392222222222222\n4.392222222222222\nnan\nnan\nnan\nnan\nnan\nnan\nnan\nnan\nnan\nnan\nnan\nnan\nnan\nnan\nnan\nnan\nnan\nnan\nnan\nnan\nnan\nnan\nnan\nnan\nnan\nnan\nnan\nnan\nnan\nnan\nnan\nnan\nnan\nnan\nnan\nnan\nnan\nnan\nnan\nnan\nnan\nnan\n3.8633333333333333\n3.8633333333333333\n3.8633333333333333\n3.8633333333333333\n3.8633333333333333\n3.8633333333333333\n3.8633333333333333\n3.8633333333333333\n3.8633333333333333\nnan\nnan\nnan\nnan\nnan\nnan\nnan\nnan\nnan\n4.382727272727273\n4.382727272727273\n4.382727272727273\n4.382727272727273\n4.382727272727273\n4.382727272727273\n4.382727272727273\n4.382727272727273\n4.382727272727273\nnan\nnan\nnan\nnan\nnan\nnan\nnan\nnan\nnan\nnan\nnan\nnan\nnan\nnan\nnan\nnan\nnan\nnan\n3.967142857142857\n3.967142857142857\n3.967142857142857\n4.283367346938776\n4.283367346938776\n4.283367346938776\nnan\nnan\nnan\nnan\nnan\nnan\nnan\nnan\nnan\nnan\nnan\nnan\n4.055714285714286\n4.055714285714286\n4.055714285714286\n4.055714285714286\n4.055714285714286\n4.055714285714286\n4.055714285714286\n4.055714285714286\nnan\nnan\nnan\nnan\nnan\nnan\nnan\nnan\nnan\nnan\nnan\nnan\nnan\nnan\nnan\nnan\nnan\nnan\nnan\nnan\nnan\nnan\nnan\nnan\n4.073333333333333\n4.073333333333333\n4.073333333333333\n4.073333333333333\n4.073333333333333\n4.073333333333333\n4.073333333333333\n4.073333333333333\n4.113333333333333\n4.113333333333333\n4.113333333333333\n4.113333333333333\n4.113333333333333\n4.113333333333333\n4.113333333333333\n4.113333333333333\nnan\nnan\nnan\nnan\nnan\nnan\nnan\nnan\nnan\nnan\nnan\nnan\nnan\nnan\nnan\nnan\nnan\nnan\nnan\nnan\nnan\nnan\nnan\nnan\nnan\nnan\nnan\nnan\nnan\nnan\nnan\nnan\nnan\nnan\nnan\nnan\nnan\nnan\nnan\nnan\nnan\nnan\nnan\nnan\nnan\nnan\nnan\nnan\nnan\nnan\nnan\nnan\nnan\nnan\n4.342631578947368\n4.342631578947368\nnan\nnan\nnan\nnan\nnan\nnan\nnan\nnan\nnan\nnan\nnan\nnan\nnan\nnan\nnan\nnan\nnan\nnan\n4.439230769230769\n4.439230769230769\nnan\nnan\nnan\nnan\n3.8875\n3.8875\n3.8875\n3.8875\n4.385\n4.385\n4.385\n4.385\n4.385\n4.385\n4.385\n4.385\nnan\n4.137777777777778\n4.137777777777778\n4.137777777777778\n4.137777777777778\nnan\nnan\nnan\n7.97910447761194\n7.97910447761194\nnan\nnan\nnan\nnan\nnan\nnan\nnan\nnan\nnan\nnan\n4.140833333333333\n4.032727272727272\n4.032727272727272\nnan\nnan\nnan\nnan\nnan\n4.607386018237082\n4.607386018237082\n4.607386018237082\n3.933333333333333\n3.933333333333333\n3.933333333333333\nnan\nnan\nnan\nnan\n3.885\n4.1695594713656385\nnan\nnan\n",
          "name": "stdout"
        }
      ]
    },
    {
      "metadata": {
        "trusted": true
      },
      "cell_type": "code",
      "source": "user_food_data.shape",
      "execution_count": 24,
      "outputs": [
        {
          "output_type": "execute_result",
          "execution_count": 24,
          "data": {
            "text/plain": "(6538, 7)"
          },
          "metadata": {}
        }
      ]
    },
    {
      "metadata": {
        "trusted": true
      },
      "cell_type": "code",
      "source": "food_data.shape",
      "execution_count": 25,
      "outputs": [
        {
          "output_type": "execute_result",
          "execution_count": 25,
          "data": {
            "text/plain": "(360, 2)"
          },
          "metadata": {}
        }
      ]
    },
    {
      "metadata": {
        "trusted": true
      },
      "cell_type": "code",
      "source": "rating_data.shape",
      "execution_count": 26,
      "outputs": [
        {
          "output_type": "execute_result",
          "execution_count": 26,
          "data": {
            "text/plain": "(360, 6)"
          },
          "metadata": {}
        }
      ]
    },
    {
      "metadata": {
        "trusted": true
      },
      "cell_type": "code",
      "source": "user_food_data.shape",
      "execution_count": 27,
      "outputs": [
        {
          "output_type": "execute_result",
          "execution_count": 27,
          "data": {
            "text/plain": "(6538, 7)"
          },
          "metadata": {}
        }
      ]
    },
    {
      "metadata": {
        "trusted": true
      },
      "cell_type": "code",
      "source": "user_food_rating = user_food_data.pivot_table('서블레이팅', index ='geo_id', columns ='food_category' ).fillna(0)",
      "execution_count": 28,
      "outputs": []
    },
    {
      "metadata": {
        "scrolled": true,
        "trusted": true
      },
      "cell_type": "code",
      "source": "user_food_rating.shape",
      "execution_count": 29,
      "outputs": [
        {
          "output_type": "execute_result",
          "execution_count": 29,
          "data": {
            "text/plain": "(9, 60)"
          },
          "metadata": {}
        }
      ]
    },
    {
      "metadata": {
        "trusted": true
      },
      "cell_type": "code",
      "source": "",
      "execution_count": null,
      "outputs": []
    },
    {
      "metadata": {
        "trusted": true
      },
      "cell_type": "code",
      "source": "user_food_rating.head()",
      "execution_count": 30,
      "outputs": [
        {
          "output_type": "execute_result",
          "execution_count": 30,
          "data": {
            "text/plain": "food_category        간식       디저트  맛있는 빵 디저트  맛있는 요리    맛있는 음식  맛있는 음식 냄비  \\\ngeo_id                                                                      \n1              4.517931  4.915922        0.0     0.0  3.973333        0.0   \n2              0.000000  0.000000        0.0     0.0  0.000000        0.0   \n3              0.000000  0.000000        0.0     0.0  0.000000        0.0   \n4              0.000000  0.000000        0.0     0.0  0.000000        0.0   \n5              0.000000  0.000000        0.0     0.0  0.000000        0.0   \n\nfood_category  맛있는 음식 마라탕  맛있는 음식_사천식 샤브샤브/마라샤브  맛있는 음식_샤브샤브  맛있는 음식_토종 닭장  \\\ngeo_id                                                                       \n1                0.000000                   0.0          0.0      0.000000   \n2                0.000000                   0.0          0.0      0.000000   \n3                0.000000                   0.0          0.0      0.000000   \n4                4.407647                   0.0          0.0      0.000000   \n5                0.000000                   0.0          0.0      4.137778   \n\nfood_category    ...       미식_황장닭  미식_후베이요리/가정식 요리  미식만두  미식점       불고기   뷔페  \\\ngeo_id           ...                                                           \n1                ...     3.883846         0.000000   0.0  0.0  0.000000  0.0   \n2                ...     0.000000         0.000000   0.0  0.0  3.993235  0.0   \n3                ...     0.000000         0.000000   0.0  0.0  0.000000  0.0   \n4                ...     0.000000         4.026667   0.0  0.0  0.000000  0.0   \n5                ...     0.000000         3.996853   0.0  0.0  0.000000  0.0   \n\nfood_category   생선  음식점  푸저우요리  할로겐맛 오리목  \ngeo_id                                    \n1              0.0  0.0    0.0  0.000000  \n2              0.0  0.0    0.0  3.967143  \n3              0.0  0.0    0.0  4.283367  \n4              0.0  0.0    0.0  0.000000  \n5              0.0  0.0    0.0  0.000000  \n\n[5 rows x 60 columns]",
            "text/html": "<div>\n<table border=\"1\" class=\"dataframe\">\n  <thead>\n    <tr style=\"text-align: right;\">\n      <th>food_category</th>\n      <th>간식</th>\n      <th>디저트</th>\n      <th>맛있는 빵 디저트</th>\n      <th>맛있는 요리</th>\n      <th>맛있는 음식</th>\n      <th>맛있는 음식 냄비</th>\n      <th>맛있는 음식 마라탕</th>\n      <th>맛있는 음식_사천식 샤브샤브/마라샤브</th>\n      <th>맛있는 음식_샤브샤브</th>\n      <th>맛있는 음식_토종 닭장</th>\n      <th>...</th>\n      <th>미식_황장닭</th>\n      <th>미식_후베이요리/가정식 요리</th>\n      <th>미식만두</th>\n      <th>미식점</th>\n      <th>불고기</th>\n      <th>뷔페</th>\n      <th>생선</th>\n      <th>음식점</th>\n      <th>푸저우요리</th>\n      <th>할로겐맛 오리목</th>\n    </tr>\n    <tr>\n      <th>geo_id</th>\n      <th></th>\n      <th></th>\n      <th></th>\n      <th></th>\n      <th></th>\n      <th></th>\n      <th></th>\n      <th></th>\n      <th></th>\n      <th></th>\n      <th></th>\n      <th></th>\n      <th></th>\n      <th></th>\n      <th></th>\n      <th></th>\n      <th></th>\n      <th></th>\n      <th></th>\n      <th></th>\n      <th></th>\n    </tr>\n  </thead>\n  <tbody>\n    <tr>\n      <th>1</th>\n      <td>4.517931</td>\n      <td>4.915922</td>\n      <td>0.0</td>\n      <td>0.0</td>\n      <td>3.973333</td>\n      <td>0.0</td>\n      <td>0.000000</td>\n      <td>0.0</td>\n      <td>0.0</td>\n      <td>0.000000</td>\n      <td>...</td>\n      <td>3.883846</td>\n      <td>0.000000</td>\n      <td>0.0</td>\n      <td>0.0</td>\n      <td>0.000000</td>\n      <td>0.0</td>\n      <td>0.0</td>\n      <td>0.0</td>\n      <td>0.0</td>\n      <td>0.000000</td>\n    </tr>\n    <tr>\n      <th>2</th>\n      <td>0.000000</td>\n      <td>0.000000</td>\n      <td>0.0</td>\n      <td>0.0</td>\n      <td>0.000000</td>\n      <td>0.0</td>\n      <td>0.000000</td>\n      <td>0.0</td>\n      <td>0.0</td>\n      <td>0.000000</td>\n      <td>...</td>\n      <td>0.000000</td>\n      <td>0.000000</td>\n      <td>0.0</td>\n      <td>0.0</td>\n      <td>3.993235</td>\n      <td>0.0</td>\n      <td>0.0</td>\n      <td>0.0</td>\n      <td>0.0</td>\n      <td>3.967143</td>\n    </tr>\n    <tr>\n      <th>3</th>\n      <td>0.000000</td>\n      <td>0.000000</td>\n      <td>0.0</td>\n      <td>0.0</td>\n      <td>0.000000</td>\n      <td>0.0</td>\n      <td>0.000000</td>\n      <td>0.0</td>\n      <td>0.0</td>\n      <td>0.000000</td>\n      <td>...</td>\n      <td>0.000000</td>\n      <td>0.000000</td>\n      <td>0.0</td>\n      <td>0.0</td>\n      <td>0.000000</td>\n      <td>0.0</td>\n      <td>0.0</td>\n      <td>0.0</td>\n      <td>0.0</td>\n      <td>4.283367</td>\n    </tr>\n    <tr>\n      <th>4</th>\n      <td>0.000000</td>\n      <td>0.000000</td>\n      <td>0.0</td>\n      <td>0.0</td>\n      <td>0.000000</td>\n      <td>0.0</td>\n      <td>4.407647</td>\n      <td>0.0</td>\n      <td>0.0</td>\n      <td>0.000000</td>\n      <td>...</td>\n      <td>0.000000</td>\n      <td>4.026667</td>\n      <td>0.0</td>\n      <td>0.0</td>\n      <td>0.000000</td>\n      <td>0.0</td>\n      <td>0.0</td>\n      <td>0.0</td>\n      <td>0.0</td>\n      <td>0.000000</td>\n    </tr>\n    <tr>\n      <th>5</th>\n      <td>0.000000</td>\n      <td>0.000000</td>\n      <td>0.0</td>\n      <td>0.0</td>\n      <td>0.000000</td>\n      <td>0.0</td>\n      <td>0.000000</td>\n      <td>0.0</td>\n      <td>0.0</td>\n      <td>4.137778</td>\n      <td>...</td>\n      <td>0.000000</td>\n      <td>3.996853</td>\n      <td>0.0</td>\n      <td>0.0</td>\n      <td>0.000000</td>\n      <td>0.0</td>\n      <td>0.0</td>\n      <td>0.0</td>\n      <td>0.0</td>\n      <td>0.000000</td>\n    </tr>\n  </tbody>\n</table>\n<p>5 rows × 60 columns</p>\n</div>"
          },
          "metadata": {}
        }
      ]
    },
    {
      "metadata": {
        "trusted": true
      },
      "cell_type": "code",
      "source": "food_user_rating = user_food_rating.values.T\nfood_user_rating.shape",
      "execution_count": 31,
      "outputs": [
        {
          "output_type": "execute_result",
          "execution_count": 31,
          "data": {
            "text/plain": "(60, 9)"
          },
          "metadata": {}
        }
      ]
    },
    {
      "metadata": {
        "trusted": true
      },
      "cell_type": "code",
      "source": "type(food_user_rating)",
      "execution_count": 32,
      "outputs": [
        {
          "output_type": "execute_result",
          "execution_count": 32,
          "data": {
            "text/plain": "numpy.ndarray"
          },
          "metadata": {}
        }
      ]
    },
    {
      "metadata": {
        "trusted": true
      },
      "cell_type": "code",
      "source": "#SVD = TruncatedSVD(n_components = 9)\n#matrix = SVD.fit_transform(food_user_rating)\n#matrix.shape",
      "execution_count": 33,
      "outputs": []
    },
    {
      "metadata": {
        "trusted": true
      },
      "cell_type": "code",
      "source": "SVD = TruncatedSVD(n_components = 5)\nmatrix = SVD.fit_transform(food_user_rating)\nmatrix.shape",
      "execution_count": 34,
      "outputs": [
        {
          "output_type": "execute_result",
          "execution_count": 34,
          "data": {
            "text/plain": "(60, 5)"
          },
          "metadata": {}
        }
      ]
    },
    {
      "metadata": {
        "trusted": true
      },
      "cell_type": "code",
      "source": "matrix[0]",
      "execution_count": 35,
      "outputs": [
        {
          "output_type": "execute_result",
          "execution_count": 35,
          "data": {
            "text/plain": "array([ 0.72245974,  2.76385206, -1.96198893,  2.60361679, -1.04557501])"
          },
          "metadata": {}
        }
      ]
    },
    {
      "metadata": {
        "trusted": true
      },
      "cell_type": "code",
      "source": "corr = np.corrcoef(matrix)\ncorr.shape",
      "execution_count": 36,
      "outputs": [
        {
          "output_type": "execute_result",
          "execution_count": 36,
          "data": {
            "text/plain": "(60, 60)"
          },
          "metadata": {}
        }
      ]
    },
    {
      "metadata": {
        "trusted": true
      },
      "cell_type": "code",
      "source": "corr2 = corr[:50, :50]\ncorr2.shape",
      "execution_count": 37,
      "outputs": [
        {
          "output_type": "execute_result",
          "execution_count": 37,
          "data": {
            "text/plain": "(50, 50)"
          },
          "metadata": {}
        }
      ]
    },
    {
      "metadata": {
        "trusted": true
      },
      "cell_type": "code",
      "source": "plt.figure(figsize=(16,10))\nsns.heatmap(corr2)",
      "execution_count": 38,
      "outputs": [
        {
          "output_type": "execute_result",
          "execution_count": 38,
          "data": {
            "text/plain": "<matplotlib.axes._subplots.AxesSubplot at 0x7f4d679974e0>"
          },
          "metadata": {}
        },
        {
          "output_type": "display_data",
          "data": {
            "image/png": "[encoded data removed]",
            "text/plain": "<matplotlib.figure.Figure at 0x7f4d67997ac8>"
          },
          "metadata": {}
        }
      ]
    },
    {
      "metadata": {
        "trusted": true
      },
      "cell_type": "code",
      "source": "food_title = user_food_rating.columns\nfood_title_list = list(food_title)\ncoffey_hands = food_title_list.index(\"미식만두\")",
      "execution_count": 39,
      "outputs": []
    },
    {
      "metadata": {
        "trusted": true
      },
      "cell_type": "code",
      "source": "corr_coffey_hands = corr[coffey_hands]\nlist(food_title[(corr_coffey_hands >= 0.9)])[:10]",
      "execution_count": 40,
      "outputs": [
        {
          "output_type": "execute_result",
          "execution_count": 40,
          "data": {
            "text/plain": "[]"
          },
          "metadata": {}
        }
      ]
    },
    {
      "metadata": {
        "trusted": true
      },
      "cell_type": "code",
      "source": "#미식만두와 비슷한 음식종류 들을 뽑음\n",
      "execution_count": 41,
      "outputs": []
    },
    {
      "metadata": {
        "trusted": true
      },
      "cell_type": "code",
      "source": "#지역마다 음식종류 추천해주기",
      "execution_count": 42,
      "outputs": []
    },
    {
      "metadata": {
        "trusted": true
      },
      "cell_type": "code",
      "source": "df_rating = pd.read_csv('./rating.csv')\ndf_food = pd.read_csv('./food_id.csv')",
      "execution_count": 43,
      "outputs": []
    },
    {
      "metadata": {
        "trusted": true
      },
      "cell_type": "code",
      "source": "df_user_food_data = pd.merge(rating_data, food_data, on = 'food_id')\ndf_user_food_data.head()",
      "execution_count": 44,
      "outputs": [
        {
          "output_type": "execute_result",
          "execution_count": 44,
          "data": {
            "text/plain": "   geo_id  서블레이팅  food_id  ratingCount                      menu  \\\n0       1    NaN      221            2  그 몇 년 동안 마라탕은 그 해 마라탕이었다   \n1       1    NaN      221            2  그 몇 년 동안 마라탕은 그 해 마라탕이었다   \n2       1    NaN      221            2  그 몇 년 동안 마라탕은 그 해 마라탕이었다   \n3       1    NaN      221            2  그 몇 년 동안 마라탕은 그 해 마라탕이었다   \n4       1    3.7      221            2       쥐신 쌀실 마라탕 쥐신 쌀실 마라탕   \n\n  goodTagDistvalue food_category  \n0              NaN    맛있는 음식 마라탕  \n1              NaN    맛있는 음식 마라탕  \n2              NaN    맛있는 음식 마라탕  \n3              NaN    맛있는 음식 마라탕  \n4              NaN    맛있는 음식 마라탕  ",
            "text/html": "<div>\n<table border=\"1\" class=\"dataframe\">\n  <thead>\n    <tr style=\"text-align: right;\">\n      <th></th>\n      <th>geo_id</th>\n      <th>서블레이팅</th>\n      <th>food_id</th>\n      <th>ratingCount</th>\n      <th>menu</th>\n      <th>goodTagDistvalue</th>\n      <th>food_category</th>\n    </tr>\n  </thead>\n  <tbody>\n    <tr>\n      <th>0</th>\n      <td>1</td>\n      <td>NaN</td>\n      <td>221</td>\n      <td>2</td>\n      <td>그 몇 년 동안 마라탕은 그 해 마라탕이었다</td>\n      <td>NaN</td>\n      <td>맛있는 음식 마라탕</td>\n    </tr>\n    <tr>\n      <th>1</th>\n      <td>1</td>\n      <td>NaN</td>\n      <td>221</td>\n      <td>2</td>\n      <td>그 몇 년 동안 마라탕은 그 해 마라탕이었다</td>\n      <td>NaN</td>\n      <td>맛있는 음식 마라탕</td>\n    </tr>\n    <tr>\n      <th>2</th>\n      <td>1</td>\n      <td>NaN</td>\n      <td>221</td>\n      <td>2</td>\n      <td>그 몇 년 동안 마라탕은 그 해 마라탕이었다</td>\n      <td>NaN</td>\n      <td>맛있는 음식 마라탕</td>\n    </tr>\n    <tr>\n      <th>3</th>\n      <td>1</td>\n      <td>NaN</td>\n      <td>221</td>\n      <td>2</td>\n      <td>그 몇 년 동안 마라탕은 그 해 마라탕이었다</td>\n      <td>NaN</td>\n      <td>맛있는 음식 마라탕</td>\n    </tr>\n    <tr>\n      <th>4</th>\n      <td>1</td>\n      <td>3.7</td>\n      <td>221</td>\n      <td>2</td>\n      <td>쥐신 쌀실 마라탕 쥐신 쌀실 마라탕</td>\n      <td>NaN</td>\n      <td>맛있는 음식 마라탕</td>\n    </tr>\n  </tbody>\n</table>\n</div>"
          },
          "metadata": {}
        }
      ]
    },
    {
      "metadata": {
        "trusted": true
      },
      "cell_type": "code",
      "source": "df_user_food_rating = df_user_food_data.pivot_table('서블레이팅', index ='geo_id', columns ='food_id' ).fillna(0)",
      "execution_count": 45,
      "outputs": []
    },
    {
      "metadata": {
        "trusted": true
      },
      "cell_type": "code",
      "source": "df_user_food_rating.head()",
      "execution_count": 46,
      "outputs": [
        {
          "output_type": "execute_result",
          "execution_count": 46,
          "data": {
            "text/plain": "food_id  104    110    111    112    114    116    117    118    132    203    \\\ngeo_id                                                                          \n1         3.59   0.00    0.0   3.68    0.0   3.59   0.00   3.67   0.00    0.0   \n2         0.00   0.00    0.0   0.00    0.0   3.76   0.00   0.00   3.90    0.0   \n3         3.71   0.00    0.0   0.00    0.0   0.00   3.62   0.00   4.03    0.0   \n4         0.00   0.00    0.0   0.00    0.0   3.78   0.00   3.53   0.00    0.0   \n5         0.00   3.55    0.0   0.00    0.0   0.00   0.00   0.00   3.66    0.0   \n\nfood_id  ...    34236     34237  34243   34245  34246     34257  34285  34286  \\\ngeo_id   ...                                                                    \n1        ...      0.0  0.000000    0.0  0.0000   4.78  0.000000  3.575    0.0   \n2        ...      0.0  0.000000    0.0  3.7275   0.00  0.000000  3.520    0.0   \n3        ...      0.0  3.606667    0.0  0.0000   0.00  3.493333  3.540    0.0   \n4        ...      0.0  3.660000    0.0  3.8350   3.57  0.000000  0.000    0.0   \n5        ...      0.0  0.000000    0.0  3.4900   0.00  0.000000  0.000    0.0   \n\nfood_id  34289  34295  \ngeo_id                 \n1          0.0  3.605  \n2          0.0  0.000  \n3          0.0  0.000  \n4          0.0  0.000  \n5          0.0  0.000  \n\n[5 rows x 65 columns]",
            "text/html": "<div>\n<table border=\"1\" class=\"dataframe\">\n  <thead>\n    <tr style=\"text-align: right;\">\n      <th>food_id</th>\n      <th>104</th>\n      <th>110</th>\n      <th>111</th>\n      <th>112</th>\n      <th>114</th>\n      <th>116</th>\n      <th>117</th>\n      <th>118</th>\n      <th>132</th>\n      <th>203</th>\n      <th>...</th>\n      <th>34236</th>\n      <th>34237</th>\n      <th>34243</th>\n      <th>34245</th>\n      <th>34246</th>\n      <th>34257</th>\n      <th>34285</th>\n      <th>34286</th>\n      <th>34289</th>\n      <th>34295</th>\n    </tr>\n    <tr>\n      <th>geo_id</th>\n      <th></th>\n      <th></th>\n      <th></th>\n      <th></th>\n      <th></th>\n      <th></th>\n      <th></th>\n      <th></th>\n      <th></th>\n      <th></th>\n      <th></th>\n      <th></th>\n      <th></th>\n      <th></th>\n      <th></th>\n      <th></th>\n      <th></th>\n      <th></th>\n      <th></th>\n      <th></th>\n      <th></th>\n    </tr>\n  </thead>\n  <tbody>\n    <tr>\n      <th>1</th>\n      <td>3.59</td>\n      <td>0.00</td>\n      <td>0.0</td>\n      <td>3.68</td>\n      <td>0.0</td>\n      <td>3.59</td>\n      <td>0.00</td>\n      <td>3.67</td>\n      <td>0.00</td>\n      <td>0.0</td>\n      <td>...</td>\n      <td>0.0</td>\n      <td>0.000000</td>\n      <td>0.0</td>\n      <td>0.0000</td>\n      <td>4.78</td>\n      <td>0.000000</td>\n      <td>3.575</td>\n      <td>0.0</td>\n      <td>0.0</td>\n      <td>3.605</td>\n    </tr>\n    <tr>\n      <th>2</th>\n      <td>0.00</td>\n      <td>0.00</td>\n      <td>0.0</td>\n      <td>0.00</td>\n      <td>0.0</td>\n      <td>3.76</td>\n      <td>0.00</td>\n      <td>0.00</td>\n      <td>3.90</td>\n      <td>0.0</td>\n      <td>...</td>\n      <td>0.0</td>\n      <td>0.000000</td>\n      <td>0.0</td>\n      <td>3.7275</td>\n      <td>0.00</td>\n      <td>0.000000</td>\n      <td>3.520</td>\n      <td>0.0</td>\n      <td>0.0</td>\n      <td>0.000</td>\n    </tr>\n    <tr>\n      <th>3</th>\n      <td>3.71</td>\n      <td>0.00</td>\n      <td>0.0</td>\n      <td>0.00</td>\n      <td>0.0</td>\n      <td>0.00</td>\n      <td>3.62</td>\n      <td>0.00</td>\n      <td>4.03</td>\n      <td>0.0</td>\n      <td>...</td>\n      <td>0.0</td>\n      <td>3.606667</td>\n      <td>0.0</td>\n      <td>0.0000</td>\n      <td>0.00</td>\n      <td>3.493333</td>\n      <td>3.540</td>\n      <td>0.0</td>\n      <td>0.0</td>\n      <td>0.000</td>\n    </tr>\n    <tr>\n      <th>4</th>\n      <td>0.00</td>\n      <td>0.00</td>\n      <td>0.0</td>\n      <td>0.00</td>\n      <td>0.0</td>\n      <td>3.78</td>\n      <td>0.00</td>\n      <td>3.53</td>\n      <td>0.00</td>\n      <td>0.0</td>\n      <td>...</td>\n      <td>0.0</td>\n      <td>3.660000</td>\n      <td>0.0</td>\n      <td>3.8350</td>\n      <td>3.57</td>\n      <td>0.000000</td>\n      <td>0.000</td>\n      <td>0.0</td>\n      <td>0.0</td>\n      <td>0.000</td>\n    </tr>\n    <tr>\n      <th>5</th>\n      <td>0.00</td>\n      <td>3.55</td>\n      <td>0.0</td>\n      <td>0.00</td>\n      <td>0.0</td>\n      <td>0.00</td>\n      <td>0.00</td>\n      <td>0.00</td>\n      <td>3.66</td>\n      <td>0.0</td>\n      <td>...</td>\n      <td>0.0</td>\n      <td>0.000000</td>\n      <td>0.0</td>\n      <td>3.4900</td>\n      <td>0.00</td>\n      <td>0.000000</td>\n      <td>0.000</td>\n      <td>0.0</td>\n      <td>0.0</td>\n      <td>0.000</td>\n    </tr>\n  </tbody>\n</table>\n<p>5 rows × 65 columns</p>\n</div>"
          },
          "metadata": {}
        }
      ]
    },
    {
      "metadata": {
        "scrolled": true,
        "trusted": true
      },
      "cell_type": "code",
      "source": "# matrix는 pivot_table 값을 numpy matrix로 만든 것 \nmatrix = df_user_food_rating.values\n\n# user_ratings_mean은 지역의 평균 평점\nuser_rating_mean = np.mean(matrix, axis =  1)\n\n# R_user_mean : 지역-음식종류에 대해 지역 평균 평점을 뺀 것.\nmatrix_user_mean = matrix - user_rating_mean.reshape(-1,1)",
      "execution_count": 47,
      "outputs": []
    },
    {
      "metadata": {
        "trusted": true
      },
      "cell_type": "code",
      "source": "matrix",
      "execution_count": 48,
      "outputs": [
        {
          "output_type": "execute_result",
          "execution_count": 48,
          "data": {
            "text/plain": "array([[3.59      , 0.        , 0.        , 3.68      , 0.        ,\n        3.59      , 0.        , 3.67      , 0.        , 0.        ,\n        0.        , 0.        , 3.625     , 3.64      , 0.        ,\n        0.        , 3.7       , 3.88      , 0.        , 3.54      ,\n        0.        , 0.        , 3.51      , 0.        , 3.71      ,\n        0.        , 3.61      , 0.        , 0.        , 0.        ,\n        0.        , 0.        , 3.53666667, 0.        , 0.        ,\n        0.        , 0.        , 0.        , 0.        , 0.        ,\n        0.        , 0.        , 3.54      , 0.        , 3.57      ,\n        0.        , 3.55      , 0.        , 0.        , 0.        ,\n        0.        , 3.55      , 0.        , 0.        , 0.        ,\n        0.        , 0.        , 0.        , 0.        , 4.78      ,\n        0.        , 3.575     , 0.        , 0.        , 3.605     ],\n       [0.        , 0.        , 0.        , 0.        , 0.        ,\n        3.76      , 0.        , 0.        , 3.9       , 0.        ,\n        0.        , 0.        , 3.53666667, 3.52      , 3.505     ,\n        3.67      , 0.        , 0.        , 0.        , 0.        ,\n        0.        , 3.59      , 3.70333333, 0.        , 3.52      ,\n        0.        , 3.59      , 0.        , 0.        , 0.        ,\n        0.        , 0.        , 3.56      , 0.        , 0.        ,\n        3.61      , 3.59      , 0.        , 3.53      , 0.        ,\n        0.        , 3.52      , 0.        , 0.        , 0.        ,\n        0.        , 3.505     , 0.        , 3.56      , 3.52333333,\n        0.        , 3.55      , 0.        , 3.87      , 0.        ,\n        0.        , 0.        , 0.        , 3.7275    , 0.        ,\n        0.        , 3.52      , 0.        , 0.        , 0.        ],\n       [3.71      , 0.        , 0.        , 0.        , 0.        ,\n        0.        , 3.62      , 0.        , 4.03      , 0.        ,\n        0.        , 0.        , 3.61833333, 0.        , 0.        ,\n        0.        , 0.        , 3.77      , 3.55      , 0.        ,\n        0.        , 0.        , 3.64      , 0.        , 0.        ,\n        0.        , 3.495     , 3.55      , 0.        , 0.        ,\n        0.        , 0.        , 0.        , 0.        , 0.        ,\n        3.99      , 0.        , 0.        , 0.        , 0.        ,\n        0.        , 0.        , 0.        , 0.        , 0.        ,\n        0.        , 0.        , 0.        , 0.        , 3.76      ,\n        0.        , 0.        , 0.        , 0.        , 0.        ,\n        0.        , 3.60666667, 0.        , 0.        , 0.        ,\n        3.49333333, 3.54      , 0.        , 0.        , 0.        ],\n       [0.        , 0.        , 0.        , 0.        , 0.        ,\n        3.78      , 0.        , 3.53      , 0.        , 0.        ,\n        0.        , 3.53      , 3.505     , 0.        , 3.52333333,\n        0.        , 3.79      , 0.        , 0.        , 0.        ,\n        0.        , 3.55      , 0.        , 0.        , 0.        ,\n        0.        , 3.78      , 0.        , 0.        , 0.        ,\n        0.        , 0.        , 3.74      , 3.55      , 0.        ,\n        0.        , 3.565     , 0.        , 0.        , 0.        ,\n        0.        , 0.        , 0.        , 0.        , 0.        ,\n        0.        , 3.6675    , 0.        , 0.        , 3.64      ,\n        0.        , 0.        , 0.        , 0.        , 0.        ,\n        0.        , 3.66      , 0.        , 3.835     , 3.57      ,\n        0.        , 0.        , 0.        , 0.        , 0.        ],\n       [0.        , 3.55      , 0.        , 0.        , 0.        ,\n        0.        , 0.        , 0.        , 3.66      , 0.        ,\n        0.        , 0.        , 3.965     , 0.        , 3.66      ,\n        0.        , 0.        , 3.6       , 0.        , 0.        ,\n        0.        , 0.        , 0.        , 7.3       , 0.        ,\n        0.        , 3.78      , 3.55      , 0.        , 0.        ,\n        0.        , 3.61      , 0.        , 0.        , 0.        ,\n        0.        , 3.692     , 0.        , 3.82      , 0.        ,\n        0.        , 0.        , 0.        , 3.55      , 0.        ,\n        0.        , 3.5       , 0.        , 0.        , 0.        ,\n        3.55      , 3.79      , 3.58      , 0.        , 0.        ,\n        0.        , 0.        , 0.        , 3.49      , 0.        ,\n        0.        , 0.        , 0.        , 0.        , 0.        ],\n       [0.        , 0.        , 0.        , 3.61      , 0.        ,\n        0.        , 0.        , 3.75      , 0.        , 0.        ,\n        3.51      , 3.7       , 3.575     , 3.64      , 3.75      ,\n        0.        , 0.        , 0.        , 0.        , 0.        ,\n        0.        , 3.45      , 0.        , 0.        , 0.        ,\n        0.        , 3.515     , 0.        , 3.58      , 0.        ,\n        0.        , 0.        , 3.42      , 0.        , 3.59      ,\n        0.        , 3.615     , 0.        , 0.        , 0.        ,\n        0.        , 3.56      , 0.        , 0.        , 0.        ,\n        0.        , 0.        , 0.        , 0.        , 3.48      ,\n        0.        , 3.73      , 0.        , 0.        , 0.        ,\n        0.        , 0.        , 0.        , 0.        , 0.        ,\n        0.        , 3.5       , 0.        , 3.54      , 0.        ],\n       [0.        , 0.        , 0.        , 3.61      , 0.        ,\n        0.        , 0.        , 0.        , 4.14      , 0.        ,\n        0.        , 0.        , 3.60545455, 0.        , 3.685     ,\n        0.        , 0.        , 0.        , 0.        , 0.        ,\n        0.        , 0.        , 0.        , 0.        , 0.        ,\n        0.        , 3.645     , 3.64      , 0.        , 0.        ,\n        0.        , 0.        , 3.53      , 0.        , 0.        ,\n        3.52      , 7.1       , 0.        , 0.        , 3.87      ,\n        0.        , 3.67      , 0.        , 0.        , 0.        ,\n        0.        , 0.        , 0.        , 0.        , 0.        ,\n        0.        , 0.        , 0.        , 0.        , 0.        ,\n        0.        , 0.        , 3.42      , 3.53      , 0.        ,\n        0.        , 3.57      , 0.        , 0.        , 0.        ],\n       [0.        , 0.        , 0.        , 0.        , 3.47      ,\n        0.        , 0.        , 0.        , 3.75      , 3.76      ,\n        0.        , 0.        , 3.68      , 0.        , 0.        ,\n        0.        , 0.        , 0.        , 3.79      , 0.        ,\n        0.        , 3.6       , 3.78      , 0.        , 3.63      ,\n        0.        , 3.67666667, 3.5       , 0.        , 3.63      ,\n        0.        , 0.        , 3.6       , 0.        , 0.        ,\n        0.        , 3.69      , 0.        , 0.        , 0.        ,\n        4.035     , 3.52      , 0.        , 0.        , 0.        ,\n        0.        , 0.        , 0.        , 0.        , 3.51      ,\n        0.        , 0.        , 0.        , 0.        , 0.        ,\n        3.92      , 0.        , 0.        , 3.56      , 0.        ,\n        0.        , 3.66333333, 3.59      , 0.        , 0.        ],\n       [0.        , 3.61      , 3.76      , 0.        , 0.        ,\n        0.        , 0.        , 0.        , 3.535     , 0.        ,\n        3.48      , 3.76      , 0.        , 0.        , 0.        ,\n        0.        , 0.        , 3.33      , 0.        , 0.        ,\n        0.        , 0.        , 3.5       , 0.        , 3.6175    ,\n        3.54      , 3.51      , 0.        , 0.        , 0.        ,\n        0.        , 0.        , 3.56      , 0.        , 0.        ,\n        0.        , 3.595     , 3.48      , 3.65666667, 0.        ,\n        0.        , 3.7       , 0.        , 0.        , 0.        ,\n        0.        , 0.        , 0.        , 0.        , 0.        ,\n        0.        , 0.        , 0.        , 0.        , 3.87      ,\n        0.        , 0.        , 0.        , 3.68      , 0.        ,\n        0.        , 3.75      , 0.        , 3.57      , 0.        ]])"
          },
          "metadata": {}
        }
      ]
    },
    {
      "metadata": {
        "trusted": true
      },
      "cell_type": "code",
      "source": "pd.DataFrame(matrix_user_mean, columns = df_user_food_rating.columns).head()",
      "execution_count": 49,
      "outputs": [
        {
          "output_type": "execute_result",
          "execution_count": 49,
          "data": {
            "text/plain": "food_id     104       110       111       112       114       116       117    \\\n0        2.459974 -1.130026 -1.130026  2.549974 -1.130026  2.459974 -1.130026   \n1       -1.220936 -1.220936 -1.220936 -1.220936 -1.220936  2.539064 -1.220936   \n2        2.919641 -0.790359 -0.790359 -0.790359 -0.790359 -0.790359  2.829641   \n3       -0.895628 -0.895628 -0.895628 -0.895628 -0.895628  2.884372 -0.895628   \n4       -1.009954  2.540046 -1.009954 -1.009954 -1.009954 -1.009954 -1.009954   \n\nfood_id     118       132       203      ...        34236     34237     34243  \\\n0        2.539974 -1.130026 -1.130026    ...    -1.130026 -1.130026 -1.130026   \n1       -1.220936  2.679064 -1.220936    ...    -1.220936 -1.220936 -1.220936   \n2       -0.790359  3.239641 -0.790359    ...    -0.790359  2.816308 -0.790359   \n3        2.634372 -0.895628 -0.895628    ...    -0.895628  2.764372 -0.895628   \n4       -1.009954  2.650046 -1.009954    ...    -1.009954 -1.009954 -1.009954   \n\nfood_id     34245     34246     34257     34285     34286     34289     34295  \n0       -1.130026  3.649974 -1.130026  2.444974 -1.130026 -1.130026  2.474974  \n1        2.506564 -1.220936 -1.220936  2.299064 -1.220936 -1.220936 -1.220936  \n2       -0.790359 -0.790359  2.702974  2.749641 -0.790359 -0.790359 -0.790359  \n3        2.939372  2.674372 -0.895628 -0.895628 -0.895628 -0.895628 -0.895628  \n4        2.480046 -1.009954 -1.009954 -1.009954 -1.009954 -1.009954 -1.009954  \n\n[5 rows x 65 columns]",
            "text/html": "<div>\n<table border=\"1\" class=\"dataframe\">\n  <thead>\n    <tr style=\"text-align: right;\">\n      <th>food_id</th>\n      <th>104</th>\n      <th>110</th>\n      <th>111</th>\n      <th>112</th>\n      <th>114</th>\n      <th>116</th>\n      <th>117</th>\n      <th>118</th>\n      <th>132</th>\n      <th>203</th>\n      <th>...</th>\n      <th>34236</th>\n      <th>34237</th>\n      <th>34243</th>\n      <th>34245</th>\n      <th>34246</th>\n      <th>34257</th>\n      <th>34285</th>\n      <th>34286</th>\n      <th>34289</th>\n      <th>34295</th>\n    </tr>\n  </thead>\n  <tbody>\n    <tr>\n      <th>0</th>\n      <td>2.459974</td>\n      <td>-1.130026</td>\n      <td>-1.130026</td>\n      <td>2.549974</td>\n      <td>-1.130026</td>\n      <td>2.459974</td>\n      <td>-1.130026</td>\n      <td>2.539974</td>\n      <td>-1.130026</td>\n      <td>-1.130026</td>\n      <td>...</td>\n      <td>-1.130026</td>\n      <td>-1.130026</td>\n      <td>-1.130026</td>\n      <td>-1.130026</td>\n      <td>3.649974</td>\n      <td>-1.130026</td>\n      <td>2.444974</td>\n      <td>-1.130026</td>\n      <td>-1.130026</td>\n      <td>2.474974</td>\n    </tr>\n    <tr>\n      <th>1</th>\n      <td>-1.220936</td>\n      <td>-1.220936</td>\n      <td>-1.220936</td>\n      <td>-1.220936</td>\n      <td>-1.220936</td>\n      <td>2.539064</td>\n      <td>-1.220936</td>\n      <td>-1.220936</td>\n      <td>2.679064</td>\n      <td>-1.220936</td>\n      <td>...</td>\n      <td>-1.220936</td>\n      <td>-1.220936</td>\n      <td>-1.220936</td>\n      <td>2.506564</td>\n      <td>-1.220936</td>\n      <td>-1.220936</td>\n      <td>2.299064</td>\n      <td>-1.220936</td>\n      <td>-1.220936</td>\n      <td>-1.220936</td>\n    </tr>\n    <tr>\n      <th>2</th>\n      <td>2.919641</td>\n      <td>-0.790359</td>\n      <td>-0.790359</td>\n      <td>-0.790359</td>\n      <td>-0.790359</td>\n      <td>-0.790359</td>\n      <td>2.829641</td>\n      <td>-0.790359</td>\n      <td>3.239641</td>\n      <td>-0.790359</td>\n      <td>...</td>\n      <td>-0.790359</td>\n      <td>2.816308</td>\n      <td>-0.790359</td>\n      <td>-0.790359</td>\n      <td>-0.790359</td>\n      <td>2.702974</td>\n      <td>2.749641</td>\n      <td>-0.790359</td>\n      <td>-0.790359</td>\n      <td>-0.790359</td>\n    </tr>\n    <tr>\n      <th>3</th>\n      <td>-0.895628</td>\n      <td>-0.895628</td>\n      <td>-0.895628</td>\n      <td>-0.895628</td>\n      <td>-0.895628</td>\n      <td>2.884372</td>\n      <td>-0.895628</td>\n      <td>2.634372</td>\n      <td>-0.895628</td>\n      <td>-0.895628</td>\n      <td>...</td>\n      <td>-0.895628</td>\n      <td>2.764372</td>\n      <td>-0.895628</td>\n      <td>2.939372</td>\n      <td>2.674372</td>\n      <td>-0.895628</td>\n      <td>-0.895628</td>\n      <td>-0.895628</td>\n      <td>-0.895628</td>\n      <td>-0.895628</td>\n    </tr>\n    <tr>\n      <th>4</th>\n      <td>-1.009954</td>\n      <td>2.540046</td>\n      <td>-1.009954</td>\n      <td>-1.009954</td>\n      <td>-1.009954</td>\n      <td>-1.009954</td>\n      <td>-1.009954</td>\n      <td>-1.009954</td>\n      <td>2.650046</td>\n      <td>-1.009954</td>\n      <td>...</td>\n      <td>-1.009954</td>\n      <td>-1.009954</td>\n      <td>-1.009954</td>\n      <td>2.480046</td>\n      <td>-1.009954</td>\n      <td>-1.009954</td>\n      <td>-1.009954</td>\n      <td>-1.009954</td>\n      <td>-1.009954</td>\n      <td>-1.009954</td>\n    </tr>\n  </tbody>\n</table>\n<p>5 rows × 65 columns</p>\n</div>"
          },
          "metadata": {}
        }
      ]
    },
    {
      "metadata": {
        "trusted": true
      },
      "cell_type": "code",
      "source": "U, Sigma, Vt = svds(matrix_user_mean, k = 5)",
      "execution_count": 50,
      "outputs": []
    },
    {
      "metadata": {
        "trusted": true
      },
      "cell_type": "code",
      "source": "print(U.shape)\nprint(Sigma.shape)\nprint(Vt.shape)\n",
      "execution_count": 51,
      "outputs": [
        {
          "output_type": "stream",
          "text": "(9, 5)\n(5,)\n(5, 65)\n",
          "name": "stdout"
        }
      ]
    },
    {
      "metadata": {
        "trusted": true
      },
      "cell_type": "code",
      "source": "Sigma = np.diag(Sigma)",
      "execution_count": 52,
      "outputs": []
    },
    {
      "metadata": {
        "trusted": true
      },
      "cell_type": "code",
      "source": "Sigma.shape",
      "execution_count": 53,
      "outputs": [
        {
          "output_type": "execute_result",
          "execution_count": 53,
          "data": {
            "text/plain": "(5, 5)"
          },
          "metadata": {}
        }
      ]
    },
    {
      "metadata": {
        "trusted": true
      },
      "cell_type": "code",
      "source": "Sigma[0]\n",
      "execution_count": 54,
      "outputs": [
        {
          "output_type": "execute_result",
          "execution_count": 54,
          "data": {
            "text/plain": "array([12.10929807,  0.        ,  0.        ,  0.        ,  0.        ])"
          },
          "metadata": {}
        }
      ]
    },
    {
      "metadata": {
        "trusted": true
      },
      "cell_type": "code",
      "source": "svd_user_predicted_ratings = np.dot(np.dot(U, Sigma),Vt) + user_rating_mean.reshape(-1,1)",
      "execution_count": 55,
      "outputs": []
    },
    {
      "metadata": {
        "scrolled": true,
        "trusted": true
      },
      "cell_type": "code",
      "source": "df_svd_preds = pd.DataFrame(svd_user_predicted_ratings, columns = df_user_food_rating.columns)\ndf_svd_preds.head()",
      "execution_count": 56,
      "outputs": [
        {
          "output_type": "execute_result",
          "execution_count": 56,
          "data": {
            "text/plain": "food_id     104       110       111       112       114       116       117    \\\n0        3.771565  0.074177  0.262116  2.525512 -0.547865  4.062310  0.778282   \n1        0.689106  0.512768  0.180909  1.700090  0.320338  1.910243  0.135472   \n2        2.606399 -0.069905 -0.263122  0.007632  1.108954  0.778938  1.815827   \n3        0.202397 -0.723563 -0.926006  2.128910  0.054155  2.739377 -0.255452   \n4        0.186885  3.331272  0.227790  0.149950 -0.513421  0.537777  0.362809   \n\nfood_id     118       132       203      ...        34236     34237     34243  \\\n0        3.548987  0.215665 -0.595855    ...    -0.622332  1.251047 -0.515775   \n1        1.616860  3.329233  0.366648    ...     0.392198  0.787110  0.463780   \n2       -0.593591  3.792269  1.200748    ...     1.251393  1.459761  0.222517   \n3        3.097615  0.128635  0.051147    ...     0.049488  1.209774  0.548402   \n4       -0.368815  4.027918 -0.571115    ...    -0.602946  0.529046  0.802906   \n\nfood_id     34245     34246     34257     34285     34286     34289     34295  \n0       -0.003528  4.450796  0.751971  3.342227 -0.567723  0.272017  3.013377  \n1        3.404480  1.128084  0.122552  3.882313  0.339501  0.787009  0.312945  \n2        1.281620  0.662630  1.752660  3.024528  1.146937 -1.221118  0.759391  \n3        1.889844  2.139154 -0.243359  1.315707  0.052910  0.181376  0.558536  \n4        3.758337  0.099341  0.356305  0.012407 -0.537295 -0.267695 -0.004383  \n\n[5 rows x 65 columns]",
            "text/html": "<div>\n<table border=\"1\" class=\"dataframe\">\n  <thead>\n    <tr style=\"text-align: right;\">\n      <th>food_id</th>\n      <th>104</th>\n      <th>110</th>\n      <th>111</th>\n      <th>112</th>\n      <th>114</th>\n      <th>116</th>\n      <th>117</th>\n      <th>118</th>\n      <th>132</th>\n      <th>203</th>\n      <th>...</th>\n      <th>34236</th>\n      <th>34237</th>\n      <th>34243</th>\n      <th>34245</th>\n      <th>34246</th>\n      <th>34257</th>\n      <th>34285</th>\n      <th>34286</th>\n      <th>34289</th>\n      <th>34295</th>\n    </tr>\n  </thead>\n  <tbody>\n    <tr>\n      <th>0</th>\n      <td>3.771565</td>\n      <td>0.074177</td>\n      <td>0.262116</td>\n      <td>2.525512</td>\n      <td>-0.547865</td>\n      <td>4.062310</td>\n      <td>0.778282</td>\n      <td>3.548987</td>\n      <td>0.215665</td>\n      <td>-0.595855</td>\n      <td>...</td>\n      <td>-0.622332</td>\n      <td>1.251047</td>\n      <td>-0.515775</td>\n      <td>-0.003528</td>\n      <td>4.450796</td>\n      <td>0.751971</td>\n      <td>3.342227</td>\n      <td>-0.567723</td>\n      <td>0.272017</td>\n      <td>3.013377</td>\n    </tr>\n    <tr>\n      <th>1</th>\n      <td>0.689106</td>\n      <td>0.512768</td>\n      <td>0.180909</td>\n      <td>1.700090</td>\n      <td>0.320338</td>\n      <td>1.910243</td>\n      <td>0.135472</td>\n      <td>1.616860</td>\n      <td>3.329233</td>\n      <td>0.366648</td>\n      <td>...</td>\n      <td>0.392198</td>\n      <td>0.787110</td>\n      <td>0.463780</td>\n      <td>3.404480</td>\n      <td>1.128084</td>\n      <td>0.122552</td>\n      <td>3.882313</td>\n      <td>0.339501</td>\n      <td>0.787009</td>\n      <td>0.312945</td>\n    </tr>\n    <tr>\n      <th>2</th>\n      <td>2.606399</td>\n      <td>-0.069905</td>\n      <td>-0.263122</td>\n      <td>0.007632</td>\n      <td>1.108954</td>\n      <td>0.778938</td>\n      <td>1.815827</td>\n      <td>-0.593591</td>\n      <td>3.792269</td>\n      <td>1.200748</td>\n      <td>...</td>\n      <td>1.251393</td>\n      <td>1.459761</td>\n      <td>0.222517</td>\n      <td>1.281620</td>\n      <td>0.662630</td>\n      <td>1.752660</td>\n      <td>3.024528</td>\n      <td>1.146937</td>\n      <td>-1.221118</td>\n      <td>0.759391</td>\n    </tr>\n    <tr>\n      <th>3</th>\n      <td>0.202397</td>\n      <td>-0.723563</td>\n      <td>-0.926006</td>\n      <td>2.128910</td>\n      <td>0.054155</td>\n      <td>2.739377</td>\n      <td>-0.255452</td>\n      <td>3.097615</td>\n      <td>0.128635</td>\n      <td>0.051147</td>\n      <td>...</td>\n      <td>0.049488</td>\n      <td>1.209774</td>\n      <td>0.548402</td>\n      <td>1.889844</td>\n      <td>2.139154</td>\n      <td>-0.243359</td>\n      <td>1.315707</td>\n      <td>0.052910</td>\n      <td>0.181376</td>\n      <td>0.558536</td>\n    </tr>\n    <tr>\n      <th>4</th>\n      <td>0.186885</td>\n      <td>3.331272</td>\n      <td>0.227790</td>\n      <td>0.149950</td>\n      <td>-0.513421</td>\n      <td>0.537777</td>\n      <td>0.362809</td>\n      <td>-0.368815</td>\n      <td>4.027918</td>\n      <td>-0.571115</td>\n      <td>...</td>\n      <td>-0.602946</td>\n      <td>0.529046</td>\n      <td>0.802906</td>\n      <td>3.758337</td>\n      <td>0.099341</td>\n      <td>0.356305</td>\n      <td>0.012407</td>\n      <td>-0.537295</td>\n      <td>-0.267695</td>\n      <td>-0.004383</td>\n    </tr>\n  </tbody>\n</table>\n<p>5 rows × 65 columns</p>\n</div>"
          },
          "metadata": {}
        }
      ]
    },
    {
      "metadata": {
        "trusted": true
      },
      "cell_type": "code",
      "source": "def recommend_food(df_svd_preds, user_id, ori_food_df, ori_ratings_df, num_recommendations=5):\n    \n    #현재는 index로 적용이 되어있으므로 user_id - 1을 해야함.\n    user_row_number = user_id - 1 \n    \n    # 최종적으로 만든 pred_df에서 사용자 index에 따라 음식종류 데이터 정렬 -> 음식 평점이 높은 순으로 정렬 됌\n    sorted_user_predictions = df_svd_preds.iloc[user_row_number].sort_values(ascending=False)\n    \n    # 원본 평점 데이터에서 user id에 해당하는 데이터를 뽑아낸다. \n    user_data = ori_ratings_df[ori_ratings_df.geo_id == user_id]\n    \n    # 위에서 뽑은 user_data와 원본 음식 데이터를 합친다. \n    user_history = user_data.merge(ori_food_df, on = 'food_id').sort_values(['서블레이팅'], ascending=False)\n    \n    # 원본 음식 데이터에서 지역에 해당하는 음식 데이터를 제외한 데이터를 추출\n    recommendations = ori_food_df[~ori_food_df['food_id'].isin(user_history['food_id'])]\n    # 지역의 음식 평점이 높은 순으로 정렬된 데이터와 위 recommendations을 합친다. \n    recommendations = recommendations.merge( pd.DataFrame(sorted_user_predictions).reset_index(), on = 'food_id')\n    # 컬럼 이름 바꾸고 정렬해서 return\n    recommendations = recommendations.rename(columns = {user_row_number: 'Predictions'}).sort_values('Predictions', ascending = False).iloc[:num_recommendations, :]\n                      \n        \n        \n    return user_history, recommendations",
      "execution_count": 57,
      "outputs": []
    },
    {
      "metadata": {
        "trusted": true
      },
      "cell_type": "code",
      "source": "already_rated, predictions = recommend_food(df_svd_preds, 9, df_food, df_rating, 10)",
      "execution_count": 58,
      "outputs": []
    },
    {
      "metadata": {
        "scrolled": true,
        "trusted": true
      },
      "cell_type": "code",
      "source": "already_rated.head(10)",
      "execution_count": 59,
      "outputs": [
        {
          "output_type": "execute_result",
          "execution_count": 59,
          "data": {
            "text/plain": "     geo_id        store  enviRating  qualRating  서블레이팅  food_id  \\\n383       9  집에 가서 밥을 먹다        4.09        4.04   3.97     1783   \n390       9  집에 가서 밥을 먹다        4.09        4.04   3.97     1783   \n384       9  집에 가서 밥을 먹다        4.09        4.04   3.97     1783   \n385       9  집에 가서 밥을 먹다        4.09        4.04   3.97     1783   \n386       9  집에 가서 밥을 먹다        4.09        4.04   3.97     1783   \n387       9  집에 가서 밥을 먹다        4.09        4.04   3.97     1783   \n389       9  집에 가서 밥을 먹다        4.09        4.04   3.97     1783   \n388       9  집에 가서 밥을 먹다        4.09        4.04   3.97     1783   \n536       9         차오톈먼        4.01        3.95   3.87    34060   \n530       9       핀상차음식점        3.75        3.74   3.76      207   \n\n          food_category_x district food_category2  ratingCount  \\\n383                맛있는 요리      황피구         가정식 요리           77   \n390                맛있는 요리      황피구         가정식 요리           77   \n384                맛있는 요리      황피구         가정식 요리           77   \n385                맛있는 요리      황피구         가정식 요리           77   \n386                맛있는 요리      황피구         가정식 요리           77   \n387                맛있는 요리      황피구         가정식 요리           77   \n389                맛있는 요리      황피구         가정식 요리           77   \n388                맛있는 요리      황피구         가정식 요리           77   \n536  맛있는 음식_사천식 샤브샤브/마라샤브      황피구         매운샤브샤브          227   \n530                미식 다식당      황피구             찻집           36   \n\n                             menu_x        goodTagDistvalue  \\\n383  친히 집에 가서 밥을 먹고 친히 집에 가서 밥을 먹는다  24|22|12|8|7|7|7|6|8|3   \n390  친히 집에 가서 밥을 먹고 친히 집에 가서 밥을 먹는다  24|22|12|8|7|7|7|6|8|3   \n384  친히 집에 가서 밥을 먹고 친히 집에 가서 밥을 먹는다  24|22|12|8|7|7|7|6|8|3   \n385  친히 집에 가서 밥을 먹고 친히 집에 가서 밥을 먹는다  24|22|12|8|7|7|7|6|8|3   \n386  친히 집에 가서 밥을 먹고 친히 집에 가서 밥을 먹는다  24|22|12|8|7|7|7|6|8|3   \n387  친히 집에 가서 밥을 먹고 친히 집에 가서 밥을 먹는다  24|22|12|8|7|7|7|6|8|3   \n389  친히 집에 가서 밥을 먹고 친히 집에 가서 밥을 먹는다  24|22|12|8|7|7|7|6|8|3   \n388  친히 집에 가서 밥을 먹고 친히 집에 가서 밥을 먹는다  24|22|12|8|7|7|7|6|8|3   \n536                    차오톈먼 차오톈먼 황피  61|26|14|8|5|5|5|4|3|5   \n530                   핀상차음식점 핀상차음식점        11|9|8|4|4|3|3|3   \n\n          food_category_y  Unnamed: 2                          menu_y  \n383                맛있는 요리         NaN         왕장훙가정식백반 요리 왕장훙가정식백반 요리  \n390                맛있는 요리         NaN   친구에게는 가정식사가 있고 친구에게는 가정식사가 있다  \n384                맛있는 요리         NaN   호기 경제소볶음향 누룽지밥 호기 경제소볶음향 누룽지밥  \n385                맛있는 요리         NaN               가정식 반찬은 가정식 반찬이다.  \n386                맛있는 요리         NaN             선부두 가정식백반 선부두 가정식백반  \n387                맛있는 요리         NaN       좋은 맛의 가정식 요리 좋은 맛의 가정식 요리  \n389                맛있는 요리         NaN  친히 집에 가서 밥을 먹고 친히 집에 가서 밥을 먹는다  \n388                맛있는 요리         NaN          샤오장가정식백반 샤오장가정식백반 진슈다오  \n536  맛있는 음식_사천식 샤브샤브/마라샤브         NaN                    차오톈먼 차오톈먼 황피  \n530                미식 다식당         NaN                   핀상차음식점 핀상차음식점  ",
            "text/html": "<div>\n<table border=\"1\" class=\"dataframe\">\n  <thead>\n    <tr style=\"text-align: right;\">\n      <th></th>\n      <th>geo_id</th>\n      <th>store</th>\n      <th>enviRating</th>\n      <th>qualRating</th>\n      <th>서블레이팅</th>\n      <th>food_id</th>\n      <th>food_category_x</th>\n      <th>district</th>\n      <th>food_category2</th>\n      <th>ratingCount</th>\n      <th>menu_x</th>\n      <th>goodTagDistvalue</th>\n      <th>food_category_y</th>\n      <th>Unnamed: 2</th>\n      <th>menu_y</th>\n    </tr>\n  </thead>\n  <tbody>\n    <tr>\n      <th>383</th>\n      <td>9</td>\n      <td>집에 가서 밥을 먹다</td>\n      <td>4.09</td>\n      <td>4.04</td>\n      <td>3.97</td>\n      <td>1783</td>\n      <td>맛있는 요리</td>\n      <td>황피구</td>\n      <td>가정식 요리</td>\n      <td>77</td>\n      <td>친히 집에 가서 밥을 먹고 친히 집에 가서 밥을 먹는다</td>\n      <td>24|22|12|8|7|7|7|6|8|3</td>\n      <td>맛있는 요리</td>\n      <td>NaN</td>\n      <td>왕장훙가정식백반 요리 왕장훙가정식백반 요리</td>\n    </tr>\n    <tr>\n      <th>390</th>\n      <td>9</td>\n      <td>집에 가서 밥을 먹다</td>\n      <td>4.09</td>\n      <td>4.04</td>\n      <td>3.97</td>\n      <td>1783</td>\n      <td>맛있는 요리</td>\n      <td>황피구</td>\n      <td>가정식 요리</td>\n      <td>77</td>\n      <td>친히 집에 가서 밥을 먹고 친히 집에 가서 밥을 먹는다</td>\n      <td>24|22|12|8|7|7|7|6|8|3</td>\n      <td>맛있는 요리</td>\n      <td>NaN</td>\n      <td>친구에게는 가정식사가 있고 친구에게는 가정식사가 있다</td>\n    </tr>\n    <tr>\n      <th>384</th>\n      <td>9</td>\n      <td>집에 가서 밥을 먹다</td>\n      <td>4.09</td>\n      <td>4.04</td>\n      <td>3.97</td>\n      <td>1783</td>\n      <td>맛있는 요리</td>\n      <td>황피구</td>\n      <td>가정식 요리</td>\n      <td>77</td>\n      <td>친히 집에 가서 밥을 먹고 친히 집에 가서 밥을 먹는다</td>\n      <td>24|22|12|8|7|7|7|6|8|3</td>\n      <td>맛있는 요리</td>\n      <td>NaN</td>\n      <td>호기 경제소볶음향 누룽지밥 호기 경제소볶음향 누룽지밥</td>\n    </tr>\n    <tr>\n      <th>385</th>\n      <td>9</td>\n      <td>집에 가서 밥을 먹다</td>\n      <td>4.09</td>\n      <td>4.04</td>\n      <td>3.97</td>\n      <td>1783</td>\n      <td>맛있는 요리</td>\n      <td>황피구</td>\n      <td>가정식 요리</td>\n      <td>77</td>\n      <td>친히 집에 가서 밥을 먹고 친히 집에 가서 밥을 먹는다</td>\n      <td>24|22|12|8|7|7|7|6|8|3</td>\n      <td>맛있는 요리</td>\n      <td>NaN</td>\n      <td>가정식 반찬은 가정식 반찬이다.</td>\n    </tr>\n    <tr>\n      <th>386</th>\n      <td>9</td>\n      <td>집에 가서 밥을 먹다</td>\n      <td>4.09</td>\n      <td>4.04</td>\n      <td>3.97</td>\n      <td>1783</td>\n      <td>맛있는 요리</td>\n      <td>황피구</td>\n      <td>가정식 요리</td>\n      <td>77</td>\n      <td>친히 집에 가서 밥을 먹고 친히 집에 가서 밥을 먹는다</td>\n      <td>24|22|12|8|7|7|7|6|8|3</td>\n      <td>맛있는 요리</td>\n      <td>NaN</td>\n      <td>선부두 가정식백반 선부두 가정식백반</td>\n    </tr>\n    <tr>\n      <th>387</th>\n      <td>9</td>\n      <td>집에 가서 밥을 먹다</td>\n      <td>4.09</td>\n      <td>4.04</td>\n      <td>3.97</td>\n      <td>1783</td>\n      <td>맛있는 요리</td>\n      <td>황피구</td>\n      <td>가정식 요리</td>\n      <td>77</td>\n      <td>친히 집에 가서 밥을 먹고 친히 집에 가서 밥을 먹는다</td>\n      <td>24|22|12|8|7|7|7|6|8|3</td>\n      <td>맛있는 요리</td>\n      <td>NaN</td>\n      <td>좋은 맛의 가정식 요리 좋은 맛의 가정식 요리</td>\n    </tr>\n    <tr>\n      <th>389</th>\n      <td>9</td>\n      <td>집에 가서 밥을 먹다</td>\n      <td>4.09</td>\n      <td>4.04</td>\n      <td>3.97</td>\n      <td>1783</td>\n      <td>맛있는 요리</td>\n      <td>황피구</td>\n      <td>가정식 요리</td>\n      <td>77</td>\n      <td>친히 집에 가서 밥을 먹고 친히 집에 가서 밥을 먹는다</td>\n      <td>24|22|12|8|7|7|7|6|8|3</td>\n      <td>맛있는 요리</td>\n      <td>NaN</td>\n      <td>친히 집에 가서 밥을 먹고 친히 집에 가서 밥을 먹는다</td>\n    </tr>\n    <tr>\n      <th>388</th>\n      <td>9</td>\n      <td>집에 가서 밥을 먹다</td>\n      <td>4.09</td>\n      <td>4.04</td>\n      <td>3.97</td>\n      <td>1783</td>\n      <td>맛있는 요리</td>\n      <td>황피구</td>\n      <td>가정식 요리</td>\n      <td>77</td>\n      <td>친히 집에 가서 밥을 먹고 친히 집에 가서 밥을 먹는다</td>\n      <td>24|22|12|8|7|7|7|6|8|3</td>\n      <td>맛있는 요리</td>\n      <td>NaN</td>\n      <td>샤오장가정식백반 샤오장가정식백반 진슈다오</td>\n    </tr>\n    <tr>\n      <th>536</th>\n      <td>9</td>\n      <td>차오톈먼</td>\n      <td>4.01</td>\n      <td>3.95</td>\n      <td>3.87</td>\n      <td>34060</td>\n      <td>맛있는 음식_사천식 샤브샤브/마라샤브</td>\n      <td>황피구</td>\n      <td>매운샤브샤브</td>\n      <td>227</td>\n      <td>차오톈먼 차오톈먼 황피</td>\n      <td>61|26|14|8|5|5|5|4|3|5</td>\n      <td>맛있는 음식_사천식 샤브샤브/마라샤브</td>\n      <td>NaN</td>\n      <td>차오톈먼 차오톈먼 황피</td>\n    </tr>\n    <tr>\n      <th>530</th>\n      <td>9</td>\n      <td>핀상차음식점</td>\n      <td>3.75</td>\n      <td>3.74</td>\n      <td>3.76</td>\n      <td>207</td>\n      <td>미식 다식당</td>\n      <td>황피구</td>\n      <td>찻집</td>\n      <td>36</td>\n      <td>핀상차음식점 핀상차음식점</td>\n      <td>11|9|8|4|4|3|3|3</td>\n      <td>미식 다식당</td>\n      <td>NaN</td>\n      <td>핀상차음식점 핀상차음식점</td>\n    </tr>\n  </tbody>\n</table>\n</div>"
          },
          "metadata": {}
        }
      ]
    },
    {
      "metadata": {
        "trusted": true
      },
      "cell_type": "code",
      "source": "predictions",
      "execution_count": 60,
      "outputs": [
        {
          "output_type": "execute_result",
          "execution_count": 60,
          "data": {
            "text/plain": "    food_id food_category  Unnamed: 2                            menu  \\\n53    32708       미식_치킨튀김         NaN              소파닭갈비 소파닭갈비 행복로중학교   \n52    32708       미식_치킨튀김         NaN  Hai Tai Hai Hai Hai Hai Street   \n50    32708       미식_치킨튀김         NaN                     새 닭갈비 새 닭갈비   \n54    32708       미식_치킨튀김         NaN                    한국식 치킨 맥주 치킨   \n51    32708       미식_치킨튀김         NaN                    닭이 튀겨 닭이 튀었다   \n57      213   미식 훈툰이 편식하다         NaN   혼돈은 어떻게 기억하는가? 혼돈은 어떻게 기억하는가?   \n55      213   미식 훈툰이 편식하다         NaN                        여의훈툰 삼양로   \n56      213   미식 훈툰이 편식하다         NaN                     특색 혼돈 특색 혼돈   \n79    33924         미식 스시         NaN                  풍령방 정교한 일재 풍령방   \n81      219         미식 새우         NaN               한미 발리 한미 발리 황피 거리   \n\n    Predictions  \n53     1.097035  \n52     1.097035  \n50     1.097035  \n54     1.097035  \n51     1.097035  \n57     1.039030  \n55     1.039030  \n56     1.039030  \n79     0.482964  \n81     0.460906  ",
            "text/html": "<div>\n<table border=\"1\" class=\"dataframe\">\n  <thead>\n    <tr style=\"text-align: right;\">\n      <th></th>\n      <th>food_id</th>\n      <th>food_category</th>\n      <th>Unnamed: 2</th>\n      <th>menu</th>\n      <th>Predictions</th>\n    </tr>\n  </thead>\n  <tbody>\n    <tr>\n      <th>53</th>\n      <td>32708</td>\n      <td>미식_치킨튀김</td>\n      <td>NaN</td>\n      <td>소파닭갈비 소파닭갈비 행복로중학교</td>\n      <td>1.097035</td>\n    </tr>\n    <tr>\n      <th>52</th>\n      <td>32708</td>\n      <td>미식_치킨튀김</td>\n      <td>NaN</td>\n      <td>Hai Tai Hai Hai Hai Hai Street</td>\n      <td>1.097035</td>\n    </tr>\n    <tr>\n      <th>50</th>\n      <td>32708</td>\n      <td>미식_치킨튀김</td>\n      <td>NaN</td>\n      <td>새 닭갈비 새 닭갈비</td>\n      <td>1.097035</td>\n    </tr>\n    <tr>\n      <th>54</th>\n      <td>32708</td>\n      <td>미식_치킨튀김</td>\n      <td>NaN</td>\n      <td>한국식 치킨 맥주 치킨</td>\n      <td>1.097035</td>\n    </tr>\n    <tr>\n      <th>51</th>\n      <td>32708</td>\n      <td>미식_치킨튀김</td>\n      <td>NaN</td>\n      <td>닭이 튀겨 닭이 튀었다</td>\n      <td>1.097035</td>\n    </tr>\n    <tr>\n      <th>57</th>\n      <td>213</td>\n      <td>미식 훈툰이 편식하다</td>\n      <td>NaN</td>\n      <td>혼돈은 어떻게 기억하는가? 혼돈은 어떻게 기억하는가?</td>\n      <td>1.039030</td>\n    </tr>\n    <tr>\n      <th>55</th>\n      <td>213</td>\n      <td>미식 훈툰이 편식하다</td>\n      <td>NaN</td>\n      <td>여의훈툰 삼양로</td>\n      <td>1.039030</td>\n    </tr>\n    <tr>\n      <th>56</th>\n      <td>213</td>\n      <td>미식 훈툰이 편식하다</td>\n      <td>NaN</td>\n      <td>특색 혼돈 특색 혼돈</td>\n      <td>1.039030</td>\n    </tr>\n    <tr>\n      <th>79</th>\n      <td>33924</td>\n      <td>미식 스시</td>\n      <td>NaN</td>\n      <td>풍령방 정교한 일재 풍령방</td>\n      <td>0.482964</td>\n    </tr>\n    <tr>\n      <th>81</th>\n      <td>219</td>\n      <td>미식 새우</td>\n      <td>NaN</td>\n      <td>한미 발리 한미 발리 황피 거리</td>\n      <td>0.460906</td>\n    </tr>\n  </tbody>\n</table>\n</div>"
          },
          "metadata": {}
        }
      ]
    },
    {
      "metadata": {
        "outputExpanded": false,
        "jupyter": {
          "source_hidden": false,
          "outputs_hidden": false
        },
        "nteract": {
          "transient": {
            "deleting": false
          }
        },
        "trusted": true
      },
      "cell_type": "code",
      "source": "",
      "execution_count": null,
      "outputs": []
    },
    {
      "metadata": {
        "trusted": true
      },
      "cell_type": "code",
      "source": "\n",
      "execution_count": null,
      "outputs": []
    },
    {
      "metadata": {
        "outputExpanded": false,
        "jupyter": {
          "source_hidden": false,
          "outputs_hidden": false
        },
        "nteract": {
          "transient": {
            "deleting": false
          }
        },
        "trusted": true
      },
      "cell_type": "code",
      "source": "\n    ",
      "execution_count": null,
      "outputs": []
    }
  ],
  "metadata": {
    "kernelspec": {
      "name": "python3",
      "display_name": "Python 3",
      "language": "python"
    },
    "kernel_info": {
      "name": "python3"
    },
    "nteract": {
      "version": "nteract-front-end@1.0.0"
    },
    "language_info": {
      "mimetype": "text/x-python",
      "nbconvert_exporter": "python",
      "name": "python",
      "file_extension": ".py",
      "version": "3.5.4",
      "pygments_lexer": "ipython3",
      "codemirror_mode": {
        "version": 3,
        "name": "ipython"
      }
    }
  },
  "nbformat": 4,
  "nbformat_minor": 4
}